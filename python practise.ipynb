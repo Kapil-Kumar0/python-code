{
 "cells": [
  {
   "cell_type": "code",
   "execution_count": 1,
   "id": "2051f57d-0ca4-4f4f-a250-8e4aec39b37e",
   "metadata": {},
   "outputs": [
    {
     "data": {
      "text/plain": [
       "False"
      ]
     },
     "execution_count": 1,
     "metadata": {},
     "output_type": "execute_result"
    }
   ],
   "source": [
    "10==5"
   ]
  },
  {
   "cell_type": "code",
   "execution_count": 1,
   "id": "3f204f6c-720e-411a-a20c-2e67ff620c2b",
   "metadata": {},
   "outputs": [
    {
     "data": {
      "text/plain": [
       "1"
      ]
     },
     "execution_count": 1,
     "metadata": {},
     "output_type": "execute_result"
    }
   ],
   "source": [
    "#list can store any type of data it can change after create the data\n",
    "num=[1,2,3,4,5,6,7]\n",
    "num[0]"
   ]
  },
  {
   "cell_type": "code",
   "execution_count": 3,
   "id": "0f83d74e-8e22-4669-ab96-a8e3338db674",
   "metadata": {},
   "outputs": [
    {
     "data": {
      "text/plain": [
       "5"
      ]
     },
     "execution_count": 3,
     "metadata": {},
     "output_type": "execute_result"
    }
   ],
   "source": [
    "num[4]"
   ]
  },
  {
   "cell_type": "code",
   "execution_count": 9,
   "id": "94cd2e8b-7cce-403c-ab75-d6be6182ecad",
   "metadata": {},
   "outputs": [],
   "source": [
    "lis=[1,2,3,\"kapil\",\"rahul\",True,(3+5j)]\n"
   ]
  },
  {
   "cell_type": "code",
   "execution_count": 11,
   "id": "4bd21798-230f-418f-bbfc-0e492db4c12f",
   "metadata": {},
   "outputs": [
    {
     "ename": "TypeError",
     "evalue": "'builtin_function_or_method' object is not subscriptable",
     "output_type": "error",
     "traceback": [
      "\u001b[1;31m---------------------------------------------------------------------------\u001b[0m",
      "\u001b[1;31mTypeError\u001b[0m                                 Traceback (most recent call last)",
      "Cell \u001b[1;32mIn[11], line 1\u001b[0m\n\u001b[1;32m----> 1\u001b[0m lis\u001b[38;5;241m.\u001b[39mappend[\u001b[38;5;124m\"\u001b[39m\u001b[38;5;124mpw skills\u001b[39m\u001b[38;5;124m\"\u001b[39m]\n",
      "\u001b[1;31mTypeError\u001b[0m: 'builtin_function_or_method' object is not subscriptable"
     ]
    }
   ],
   "source": [
    "lis.append[\"pw skills\"]"
   ]
  },
  {
   "cell_type": "code",
   "execution_count": 13,
   "id": "57acc4b8-6ab3-4d0e-a537-1cfb9569b9ea",
   "metadata": {},
   "outputs": [
    {
     "data": {
      "text/plain": [
       "[1, 2, 3, 'kapil', 'rahul', True, (3+5j)]"
      ]
     },
     "execution_count": 13,
     "metadata": {},
     "output_type": "execute_result"
    }
   ],
   "source": [
    "lis"
   ]
  },
  {
   "cell_type": "code",
   "execution_count": 17,
   "id": "e5d2333d-7b4f-4183-8ef8-d5e2e3bc7ae2",
   "metadata": {},
   "outputs": [],
   "source": [
    "lis.append(\"pwskills\")"
   ]
  },
  {
   "cell_type": "code",
   "execution_count": 19,
   "id": "e1df6724-a57c-4273-a848-f33bacae78c8",
   "metadata": {},
   "outputs": [
    {
     "data": {
      "text/plain": [
       "[1, 2, 3, 'kapil', 'rahul', True, (3+5j), 'pwskills']"
      ]
     },
     "execution_count": 19,
     "metadata": {},
     "output_type": "execute_result"
    }
   ],
   "source": [
    "lis"
   ]
  },
  {
   "cell_type": "code",
   "execution_count": 21,
   "id": "c3ea1bf5-72e8-4090-97f6-f5987f82fa17",
   "metadata": {},
   "outputs": [],
   "source": [
    "lis.remove(\"kapil\")"
   ]
  },
  {
   "cell_type": "code",
   "execution_count": 23,
   "id": "1a0b3cf3-3408-49fa-9f7d-495ec14314d6",
   "metadata": {},
   "outputs": [
    {
     "data": {
      "text/plain": [
       "[1, 2, 3, 'rahul', True, (3+5j), 'pwskills']"
      ]
     },
     "execution_count": 23,
     "metadata": {},
     "output_type": "execute_result"
    }
   ],
   "source": [
    "lis"
   ]
  },
  {
   "cell_type": "code",
   "execution_count": 25,
   "id": "abc39da4-1b99-40bf-bf2f-240889cbc567",
   "metadata": {},
   "outputs": [
    {
     "data": {
      "text/plain": [
       "'rahul'"
      ]
     },
     "execution_count": 25,
     "metadata": {},
     "output_type": "execute_result"
    }
   ],
   "source": [
    "lis[3]"
   ]
  },
  {
   "cell_type": "code",
   "execution_count": 27,
   "id": "334a1b8b-1f6e-479f-9450-1ecffaf7fbf5",
   "metadata": {},
   "outputs": [
    {
     "data": {
      "text/plain": [
       "[[1, 2], [3, 4], [5, 6]]"
      ]
     },
     "execution_count": 27,
     "metadata": {},
     "output_type": "execute_result"
    }
   ],
   "source": [
    "lists=[[1,2],[3,4],[5,6]]\n",
    "lists"
   ]
  },
  {
   "cell_type": "code",
   "execution_count": 29,
   "id": "e7ca937d-3ecd-4ba1-a3f4-8e899d3597ed",
   "metadata": {},
   "outputs": [
    {
     "data": {
      "text/plain": [
       "[1, 2]"
      ]
     },
     "execution_count": 29,
     "metadata": {},
     "output_type": "execute_result"
    }
   ],
   "source": [
    "lists[0]"
   ]
  },
  {
   "cell_type": "code",
   "execution_count": 31,
   "id": "fcdfcf39-a50a-4b24-aa0b-aa1e71ee04e0",
   "metadata": {},
   "outputs": [
    {
     "data": {
      "text/plain": [
       "list"
      ]
     },
     "execution_count": 31,
     "metadata": {},
     "output_type": "execute_result"
    }
   ],
   "source": [
    "type(lists)"
   ]
  },
  {
   "cell_type": "code",
   "execution_count": 37,
   "id": "d5b0fd94-6db1-45fc-8e9d-68a07e25d642",
   "metadata": {},
   "outputs": [
    {
     "data": {
      "text/plain": [
       "[1, 2]"
      ]
     },
     "execution_count": 37,
     "metadata": {},
     "output_type": "execute_result"
    }
   ],
   "source": [
    "lists[0]"
   ]
  },
  {
   "cell_type": "code",
   "execution_count": 39,
   "id": "153623c7-88c4-4299-8a35-9a0c0b165ec4",
   "metadata": {},
   "outputs": [
    {
     "data": {
      "text/plain": [
       "5"
      ]
     },
     "execution_count": 39,
     "metadata": {},
     "output_type": "execute_result"
    }
   ],
   "source": [
    "lists[2][0]"
   ]
  },
  {
   "cell_type": "code",
   "execution_count": 43,
   "id": "b21ff60a-3aa9-43de-b2a4-b5bc6fdec7ed",
   "metadata": {},
   "outputs": [
    {
     "name": "stdout",
     "output_type": "stream",
     "text": [
      "[1, 2]-[3, 4]-[5, 6]-"
     ]
    }
   ],
   "source": [
    "for i in lists:\n",
    "    print(i,end='-')"
   ]
  },
  {
   "cell_type": "code",
   "execution_count": 47,
   "id": "0bdd8361-94f1-4d6d-a62f-76fa2194dff7",
   "metadata": {},
   "outputs": [],
   "source": [
    "#tuples are similar to lists but these are inmutable  after the makein the data we cannot change the dataa \n",
    "tuples=(2,4)"
   ]
  },
  {
   "cell_type": "code",
   "execution_count": 49,
   "id": "3fb5c804-717d-4296-9f8a-09d4b27f4bf6",
   "metadata": {},
   "outputs": [
    {
     "data": {
      "text/plain": [
       "(2, 4)"
      ]
     },
     "execution_count": 49,
     "metadata": {},
     "output_type": "execute_result"
    }
   ],
   "source": [
    "tuples"
   ]
  },
  {
   "cell_type": "code",
   "execution_count": 51,
   "id": "682828ca-da85-42da-acae-9a4fd3193961",
   "metadata": {},
   "outputs": [],
   "source": [
    "#tuple have multiple data store in the data\n",
    "a=(\"hello\",\"mister\",1,2,4,5,7)"
   ]
  },
  {
   "cell_type": "code",
   "execution_count": 53,
   "id": "c5290238-fb6b-4b9f-9357-42b56eae7356",
   "metadata": {},
   "outputs": [
    {
     "data": {
      "text/plain": [
       "('hello', 'mister', 1, 2, 4, 5, 7)"
      ]
     },
     "execution_count": 53,
     "metadata": {},
     "output_type": "execute_result"
    }
   ],
   "source": [
    "a"
   ]
  },
  {
   "cell_type": "code",
   "execution_count": 55,
   "id": "8501c2f4-43e5-45f8-a45d-7245698a71d0",
   "metadata": {},
   "outputs": [
    {
     "name": "stdout",
     "output_type": "stream",
     "text": [
      "hello\n",
      "mister\n",
      "1\n",
      "2\n",
      "4\n",
      "5\n",
      "7\n"
     ]
    }
   ],
   "source": [
    "for i in a:\n",
    "    print(i)"
   ]
  },
  {
   "cell_type": "code",
   "execution_count": 57,
   "id": "592f99da-56f4-405a-ad81-7030591a93fa",
   "metadata": {},
   "outputs": [],
   "source": [
    "lists[0]=[4455]"
   ]
  },
  {
   "cell_type": "code",
   "execution_count": 59,
   "id": "bc73e4f4-3812-4dd4-9596-2f3aaa1a2a35",
   "metadata": {},
   "outputs": [
    {
     "data": {
      "text/plain": [
       "[[4455], [3, 4], [5, 6]]"
      ]
     },
     "execution_count": 59,
     "metadata": {},
     "output_type": "execute_result"
    }
   ],
   "source": [
    "lists"
   ]
  },
  {
   "cell_type": "code",
   "execution_count": null,
   "id": "205c7ee6-28de-4179-ba50-3407ee3f4449",
   "metadata": {},
   "outputs": [],
   "source": []
  },
  {
   "cell_type": "code",
   "execution_count": null,
   "id": "2bd8317b-6f0e-4831-892e-85c5114fa992",
   "metadata": {},
   "outputs": [],
   "source": []
  },
  {
   "cell_type": "code",
   "execution_count": null,
   "id": "91256eb2-e0a2-4219-b429-fcd4501fe6f9",
   "metadata": {},
   "outputs": [],
   "source": []
  },
  {
   "cell_type": "code",
   "execution_count": null,
   "id": "cbcafc83-e6a3-474f-9989-edca2b5249d3",
   "metadata": {},
   "outputs": [],
   "source": []
  },
  {
   "cell_type": "code",
   "execution_count": null,
   "id": "79d0d91c-e7b1-417e-98c6-00713899b4c4",
   "metadata": {},
   "outputs": [],
   "source": []
  },
  {
   "cell_type": "code",
   "execution_count": null,
   "id": "4e969b60-344b-46f1-a2b7-e2e9b5ab0935",
   "metadata": {},
   "outputs": [],
   "source": []
  },
  {
   "cell_type": "code",
   "execution_count": null,
   "id": "88f0ae58-54c6-4f55-89e2-adde463b062b",
   "metadata": {},
   "outputs": [],
   "source": []
  },
  {
   "cell_type": "code",
   "execution_count": 3,
   "id": "9e7f4d46-c2e4-446e-adde-3ea05c5ab0c1",
   "metadata": {},
   "outputs": [
    {
     "data": {
      "text/plain": [
       "False"
      ]
     },
     "execution_count": 3,
     "metadata": {},
     "output_type": "execute_result"
    }
   ],
   "source": [
    "15>45"
   ]
  },
  {
   "cell_type": "code",
   "execution_count": 5,
   "id": "b670fe9a-6981-4bde-b180-0356c03247e7",
   "metadata": {},
   "outputs": [
    {
     "data": {
      "text/plain": [
       "243"
      ]
     },
     "execution_count": 5,
     "metadata": {},
     "output_type": "execute_result"
    }
   ],
   "source": [
    "3**5"
   ]
  },
  {
   "cell_type": "code",
   "execution_count": 7,
   "id": "9585344d-658a-4bcf-8809-22b3e7f71798",
   "metadata": {},
   "outputs": [
    {
     "data": {
      "text/plain": [
       "False"
      ]
     },
     "execution_count": 7,
     "metadata": {},
     "output_type": "execute_result"
    }
   ],
   "source": [
    "5!=5"
   ]
  },
  {
   "cell_type": "code",
   "execution_count": 9,
   "id": "afc39bda-ea51-46f3-9fa3-c0a969eb2b29",
   "metadata": {},
   "outputs": [
    {
     "data": {
      "text/plain": [
       "False"
      ]
     },
     "execution_count": 9,
     "metadata": {},
     "output_type": "execute_result"
    }
   ],
   "source": [
    "True and False"
   ]
  },
  {
   "cell_type": "code",
   "execution_count": 11,
   "id": "22098a4a-b8e3-420e-b36b-b4d8cdbea024",
   "metadata": {},
   "outputs": [
    {
     "data": {
      "text/plain": [
       "True"
      ]
     },
     "execution_count": 11,
     "metadata": {},
     "output_type": "execute_result"
    }
   ],
   "source": [
    "True or False"
   ]
  },
  {
   "cell_type": "code",
   "execution_count": 13,
   "id": "b5a96fd6-9072-4f47-88bc-53359e21afa1",
   "metadata": {},
   "outputs": [
    {
     "data": {
      "text/plain": [
       "True"
      ]
     },
     "execution_count": 13,
     "metadata": {},
     "output_type": "execute_result"
    }
   ],
   "source": [
    "True and True"
   ]
  },
  {
   "cell_type": "code",
   "execution_count": 15,
   "id": "8c7d4fd5-9a1d-45e1-b0b1-3f66e123834d",
   "metadata": {},
   "outputs": [
    {
     "data": {
      "text/plain": [
       "False"
      ]
     },
     "execution_count": 15,
     "metadata": {},
     "output_type": "execute_result"
    }
   ],
   "source": [
    "False and False"
   ]
  },
  {
   "cell_type": "code",
   "execution_count": 27,
   "id": "8a0b9133-d92f-4fbd-affa-42a108cf8323",
   "metadata": {},
   "outputs": [],
   "source": [
    "a=\"kapil verma\" \n",
    "\n"
   ]
  },
  {
   "cell_type": "code",
   "execution_count": 29,
   "id": "1dcfd19c-0385-4028-bb81-37c61f700665",
   "metadata": {},
   "outputs": [
    {
     "name": "stdout",
     "output_type": "stream",
     "text": [
      "kapil verma\n"
     ]
    }
   ],
   "source": [
    "print(a)"
   ]
  },
  {
   "cell_type": "code",
   "execution_count": 31,
   "id": "92b686ec-d127-4582-9ec6-84a22f98960e",
   "metadata": {},
   "outputs": [
    {
     "name": "stdout",
     "output_type": "stream",
     "text": [
      "True\n"
     ]
    }
   ],
   "source": [
    "print(\"v\" in a)"
   ]
  },
  {
   "cell_type": "code",
   "execution_count": 33,
   "id": "3c114e3b-e7de-4e85-ada4-eb9b5b6f719c",
   "metadata": {},
   "outputs": [],
   "source": [
    "a=34\n"
   ]
  },
  {
   "cell_type": "code",
   "execution_count": 35,
   "id": "21a33b66-8e8a-470a-887b-56e854b25e34",
   "metadata": {},
   "outputs": [],
   "source": [
    "a+=66"
   ]
  },
  {
   "cell_type": "code",
   "execution_count": 37,
   "id": "d3121373-22cc-4d40-b2ca-4f36da4e1220",
   "metadata": {},
   "outputs": [
    {
     "data": {
      "text/plain": [
       "100"
      ]
     },
     "execution_count": 37,
     "metadata": {},
     "output_type": "execute_result"
    }
   ],
   "source": [
    "a"
   ]
  },
  {
   "cell_type": "code",
   "execution_count": 39,
   "id": "f8174086-7aa4-4039-afe0-e7339058c6cc",
   "metadata": {},
   "outputs": [],
   "source": [
    "a/=3"
   ]
  },
  {
   "cell_type": "code",
   "execution_count": 41,
   "id": "e1ade337-6ac0-4c24-9242-cadfe09adf76",
   "metadata": {},
   "outputs": [
    {
     "data": {
      "text/plain": [
       "33.333333333333336"
      ]
     },
     "execution_count": 41,
     "metadata": {},
     "output_type": "execute_result"
    }
   ],
   "source": [
    "a"
   ]
  },
  {
   "cell_type": "code",
   "execution_count": 43,
   "id": "96e66064-fd6e-4e23-bdea-dd153ea436d4",
   "metadata": {},
   "outputs": [
    {
     "data": {
      "text/plain": [
       "True"
      ]
     },
     "execution_count": 43,
     "metadata": {},
     "output_type": "execute_result"
    }
   ],
   "source": [
    "'kapil' in 'kapil verma'"
   ]
  },
  {
   "cell_type": "code",
   "execution_count": 45,
   "id": "9bea2ef8-645b-4518-a923-ddeaafdf7edb",
   "metadata": {},
   "outputs": [],
   "source": [
    "a=[\"data\",\"science\"]\n"
   ]
  },
  {
   "cell_type": "code",
   "execution_count": 47,
   "id": "ec0bb35f-273f-4b18-921a-7ec56ed37fa2",
   "metadata": {},
   "outputs": [
    {
     "data": {
      "text/plain": [
       "True"
      ]
     },
     "execution_count": 47,
     "metadata": {},
     "output_type": "execute_result"
    }
   ],
   "source": [
    "\"data\" in a"
   ]
  },
  {
   "cell_type": "code",
   "execution_count": 49,
   "id": "bab450ae-e8a1-4389-89f2-47552fd48b79",
   "metadata": {},
   "outputs": [
    {
     "data": {
      "text/plain": [
       "False"
      ]
     },
     "execution_count": 49,
     "metadata": {},
     "output_type": "execute_result"
    }
   ],
   "source": [
    "2==3"
   ]
  },
  {
   "cell_type": "code",
   "execution_count": 51,
   "id": "424a8fe7-523b-4b18-84e8-5522f302bce5",
   "metadata": {},
   "outputs": [
    {
     "data": {
      "text/plain": [
       "True"
      ]
     },
     "execution_count": 51,
     "metadata": {},
     "output_type": "execute_result"
    }
   ],
   "source": [
    "2==2"
   ]
  },
  {
   "cell_type": "code",
   "execution_count": 53,
   "id": "503bfc7a-b65f-41f3-aaee-24514edcfcb8",
   "metadata": {},
   "outputs": [],
   "source": [
    "s=\"6\""
   ]
  },
  {
   "cell_type": "code",
   "execution_count": 57,
   "id": "4a860f33-43f4-4e6f-991f-5a9455acb3c6",
   "metadata": {},
   "outputs": [
    {
     "data": {
      "text/plain": [
       "'6'"
      ]
     },
     "execution_count": 57,
     "metadata": {},
     "output_type": "execute_result"
    }
   ],
   "source": [
    "s"
   ]
  },
  {
   "cell_type": "code",
   "execution_count": 59,
   "id": "f0253095-f6f5-44af-8066-786197fa4216",
   "metadata": {},
   "outputs": [
    {
     "data": {
      "text/plain": [
       "str"
      ]
     },
     "execution_count": 59,
     "metadata": {},
     "output_type": "execute_result"
    }
   ],
   "source": [
    "type(s)"
   ]
  },
  {
   "cell_type": "code",
   "execution_count": 63,
   "id": "c58b0d22-e66a-401f-9193-478c6dd2ce4b",
   "metadata": {},
   "outputs": [
    {
     "data": {
      "text/plain": [
       "10"
      ]
     },
     "execution_count": 63,
     "metadata": {},
     "output_type": "execute_result"
    }
   ],
   "source": [
    "int(s)+4"
   ]
  },
  {
   "cell_type": "code",
   "execution_count": 65,
   "id": "4ea2d652-729d-42a4-bc9a-3b473789e325",
   "metadata": {},
   "outputs": [
    {
     "data": {
      "text/plain": [
       "'ram   shayam'"
      ]
     },
     "execution_count": 65,
     "metadata": {},
     "output_type": "execute_result"
    }
   ],
   "source": [
    "\"ram\"+\"   \"+\"shayam\""
   ]
  },
  {
   "cell_type": "code",
   "execution_count": 71,
   "id": "3911f12b-6d17-4d3b-9e93-3b950bab4576",
   "metadata": {},
   "outputs": [
    {
     "data": {
      "text/plain": [
       "\"['data', 'science']ram\""
      ]
     },
     "execution_count": 71,
     "metadata": {},
     "output_type": "execute_result"
    }
   ],
   "source": [
    "str(a)+\"ram\""
   ]
  },
  {
   "cell_type": "markdown",
   "id": "8478040e-7d2c-405e-b002-dbf9fecdef58",
   "metadata": {},
   "source": [
    "conditional statement"
   ]
  },
  {
   "cell_type": "code",
   "execution_count": 78,
   "id": "2db0f970-1ecc-42b4-a570-1903df89088e",
   "metadata": {},
   "outputs": [
    {
     "name": "stdout",
     "output_type": "stream",
     "text": [
      "this is not true\n"
     ]
    }
   ],
   "source": [
    "a=112\n",
    "if a<11:\n",
    "    print(\"this is true\")\n",
    "else:\n",
    "    print(\"this is not true\")"
   ]
  },
  {
   "cell_type": "code",
   "execution_count": 102,
   "id": "27af473f-b02f-4cc3-88ff-8bfe0780f3ed",
   "metadata": {},
   "outputs": [
    {
     "name": "stdin",
     "output_type": "stream",
     "text": [
      "enter the number here 45\n"
     ]
    },
    {
     "name": "stdout",
     "output_type": "stream",
     "text": [
      "it is odd\n"
     ]
    }
   ],
   "source": [
    "a=int(input(\"enter the number here\"))\n",
    "if a%2==0:\n",
    "    print(\"it is even\")\n",
    "else:\n",
    "    print(\"it is odd\")\n"
   ]
  },
  {
   "cell_type": "code",
   "execution_count": 108,
   "id": "ead817e0-953b-4cb0-a588-04a736b1f8d4",
   "metadata": {},
   "outputs": [
    {
     "name": "stdin",
     "output_type": "stream",
     "text": [
      "enter the number here 77\n"
     ]
    }
   ],
   "source": [
    "a=int(input(\"enter the number here\"))\n"
   ]
  },
  {
   "cell_type": "code",
   "execution_count": 116,
   "id": "a450a8bb-18d8-452d-bfb2-d6d6cd6d7ae5",
   "metadata": {},
   "outputs": [
    {
     "ename": "TypeError",
     "evalue": "'str' object is not callable",
     "output_type": "error",
     "traceback": [
      "\u001b[1;31m---------------------------------------------------------------------------\u001b[0m",
      "\u001b[1;31mTypeError\u001b[0m                                 Traceback (most recent call last)",
      "Cell \u001b[1;32mIn[116], line 8\u001b[0m\n\u001b[0;32m      6\u001b[0m     \u001b[38;5;28mprint\u001b[39m \u001b[38;5;241m=\u001b[39m(\u001b[38;5;124m\"\u001b[39m\u001b[38;5;124mit is less than hundred\u001b[39m\u001b[38;5;124m\"\u001b[39m)\n\u001b[0;32m      7\u001b[0m \u001b[38;5;28;01melse\u001b[39;00m:\n\u001b[1;32m----> 8\u001b[0m     \u001b[38;5;28mprint\u001b[39m(\u001b[38;5;124m\"\u001b[39m\u001b[38;5;124mit is equal to hundred\u001b[39m\u001b[38;5;124m\"\u001b[39m)\n",
      "\u001b[1;31mTypeError\u001b[0m: 'str' object is not callable"
     ]
    }
   ],
   "source": [
    "a=100\n",
    "int(a)\n",
    "if a > 100:\n",
    "    print(\"it is greater than hundred\")\n",
    "elif a<100:\n",
    "    print =(\"it is less than hundred\")\n",
    "else:\n",
    "    print(\"it is equal to hundred\")"
   ]
  },
  {
   "cell_type": "code",
   "execution_count": 5,
   "id": "01f3da29-7268-486a-abd1-8667d9e2ecd3",
   "metadata": {},
   "outputs": [],
   "source": [
    "if a<10:\n",
    "    print(\"hello\")"
   ]
  },
  {
   "cell_type": "code",
   "execution_count": 3,
   "id": "31804a95-1cf9-461a-9c5b-0d52fee095d0",
   "metadata": {},
   "outputs": [],
   "source": [
    "a=100"
   ]
  },
  {
   "cell_type": "code",
   "execution_count": 9,
   "id": "39574b04-19e4-4903-96f8-fae3ab76deb0",
   "metadata": {},
   "outputs": [
    {
     "data": {
      "text/plain": [
       "100"
      ]
     },
     "execution_count": 9,
     "metadata": {},
     "output_type": "execute_result"
    }
   ],
   "source": [
    "a"
   ]
  },
  {
   "cell_type": "code",
   "execution_count": 23,
   "id": "ba3cec48-d714-4c28-8c26-2309a2dd9b76",
   "metadata": {},
   "outputs": [],
   "source": [
    "if a<10:\n",
    "    print(\"hello\")"
   ]
  },
  {
   "cell_type": "code",
   "execution_count": 25,
   "id": "8a35b9e5-bb76-4a64-a91d-96e1f1171229",
   "metadata": {},
   "outputs": [
    {
     "name": "stdout",
     "output_type": "stream",
     "text": [
      "hello\n"
     ]
    }
   ],
   "source": [
    "print(\"hello\")"
   ]
  },
  {
   "cell_type": "code",
   "execution_count": 12,
   "id": "1f178c6f-3b9c-4300-95dc-18d712a83950",
   "metadata": {},
   "outputs": [],
   "source": [
    "n=5 \n",
    "i=1\n",
    "while i>n:\n",
    "    print(i)\n",
    "    i=i+1\n"
   ]
  },
  {
   "cell_type": "code",
   "execution_count": 26,
   "id": "5d582de4-4cfe-4cba-a524-02eed2f22e6a",
   "metadata": {},
   "outputs": [],
   "source": [
    "n=5 \n",
    "i=1\n",
    "while i>n:\n",
    "    print(i)\n",
    "    i=i+1\n",
    " \n"
   ]
  },
  {
   "cell_type": "code",
   "execution_count": 28,
   "id": "289b2c3e-6437-45c4-9702-9928daab8099",
   "metadata": {},
   "outputs": [
    {
     "name": "stdout",
     "output_type": "stream",
     "text": [
      "5\n"
     ]
    }
   ],
   "source": [
    "a=5\n",
    "print(a)"
   ]
  },
  {
   "cell_type": "code",
   "execution_count": 31,
   "id": "eaa51f15-049e-4f12-a482-bb55ede71681",
   "metadata": {},
   "outputs": [
    {
     "name": "stdout",
     "output_type": "stream",
     "text": [
      "10\n",
      "11\n",
      "12\n",
      "13\n",
      "14\n",
      "15\n",
      "16\n",
      "17\n",
      "18\n",
      "19\n",
      "20\n",
      "21\n",
      "22\n",
      "23\n",
      "24\n",
      "25\n",
      "26\n",
      "27\n",
      "28\n",
      "29\n",
      "30\n",
      "31\n",
      "32\n",
      "33\n",
      "34\n",
      "35\n",
      "36\n",
      "37\n",
      "38\n",
      "39\n",
      "40\n",
      "41\n",
      "42\n",
      "43\n",
      "44\n",
      "45\n",
      "46\n",
      "47\n",
      "48\n",
      "49\n",
      "50\n",
      "51\n",
      "52\n",
      "53\n",
      "54\n",
      "55\n",
      "56\n",
      "57\n",
      "58\n",
      "59\n",
      "60\n",
      "61\n",
      "62\n",
      "63\n",
      "64\n",
      "65\n",
      "66\n",
      "67\n",
      "68\n",
      "69\n",
      "70\n",
      "71\n",
      "72\n",
      "73\n",
      "74\n",
      "75\n",
      "76\n"
     ]
    }
   ],
   "source": [
    "n=77\n",
    "v=10\n",
    "while v < n:\n",
    "    print(v)\n",
    "    v=v+1"
   ]
  },
  {
   "cell_type": "code",
   "execution_count": 1,
   "id": "f4a6aab4-bf5a-4be4-94ec-0ebbbb307c85",
   "metadata": {},
   "outputs": [],
   "source": [
    "n=\"hello\"\n"
   ]
  },
  {
   "cell_type": "code",
   "execution_count": 3,
   "id": "8946d163-4d8b-42dd-a385-033ac6332f58",
   "metadata": {},
   "outputs": [
    {
     "data": {
      "text/plain": [
       "'hello'"
      ]
     },
     "execution_count": 3,
     "metadata": {},
     "output_type": "execute_result"
    }
   ],
   "source": [
    "n"
   ]
  },
  {
   "cell_type": "code",
   "execution_count": 5,
   "id": "438ca084-e861-432e-8de9-0e844240492e",
   "metadata": {},
   "outputs": [
    {
     "name": "stdout",
     "output_type": "stream",
     "text": [
      "1\n",
      "2\n",
      "pw\n",
      "skill\n"
     ]
    }
   ],
   "source": [
    "b=[1,2,\"pw\",\"skill\"]\n",
    "for k in b:\n",
    "    print(k)"
   ]
  },
  {
   "cell_type": "code",
   "execution_count": 9,
   "id": "3c826a39-0833-4bb6-a6a8-2adecd4ec92e",
   "metadata": {},
   "outputs": [
    {
     "data": {
      "text/plain": [
       "[0, 1, 2, 3, 4, 5, 6, 7, 8, 9]"
      ]
     },
     "execution_count": 9,
     "metadata": {},
     "output_type": "execute_result"
    }
   ],
   "source": [
    "list(range(0,10))"
   ]
  },
  {
   "cell_type": "code",
   "execution_count": 13,
   "id": "be3674ca-24c2-47c6-8779-f33df0acd63d",
   "metadata": {},
   "outputs": [
    {
     "name": "stdout",
     "output_type": "stream",
     "text": [
      "0\n",
      "1\n",
      "2\n",
      "3\n",
      "4\n",
      "5\n",
      "6\n",
      "7\n",
      "8\n",
      "9\n"
     ]
    }
   ],
   "source": [
    "for i in range(10):\n",
    "    print(i)"
   ]
  },
  {
   "cell_type": "code",
   "execution_count": 15,
   "id": "ede62deb-1a10-444f-a407-9a994e85d796",
   "metadata": {},
   "outputs": [
    {
     "ename": "NameError",
     "evalue": "name 'x' is not defined",
     "output_type": "error",
     "traceback": [
      "\u001b[1;31m---------------------------------------------------------------------------\u001b[0m",
      "\u001b[1;31mNameError\u001b[0m                                 Traceback (most recent call last)",
      "Cell \u001b[1;32mIn[15], line 3\u001b[0m\n\u001b[0;32m      1\u001b[0m \u001b[38;5;66;03m#print a right triangle using while loop\u001b[39;00m\n\u001b[0;32m      2\u001b[0m a\u001b[38;5;241m=\u001b[39m\u001b[38;5;28mrange\u001b[39m(\u001b[38;5;241m1\u001b[39m,\u001b[38;5;241m10\u001b[39m)\n\u001b[1;32m----> 3\u001b[0m \u001b[38;5;28;01mwhile\u001b[39;00m x \u001b[38;5;129;01min\u001b[39;00m a:\n\u001b[0;32m      4\u001b[0m     \u001b[38;5;28mprint\u001b[39m(a,end\u001b[38;5;241m=\u001b[39m\u001b[38;5;124m\"\u001b[39m\u001b[38;5;124m\"\u001b[39m)\n",
      "\u001b[1;31mNameError\u001b[0m: name 'x' is not defined"
     ]
    }
   ],
   "source": [
    "#print a right triangle using while loop\n",
    "a=range(1,10)\n",
    "while x in a:\n",
    "    print(a,end=\"\")"
   ]
  },
  {
   "cell_type": "code",
   "execution_count": 17,
   "id": "4f69058f-ad0f-41e3-85bf-d811ab65d0fe",
   "metadata": {},
   "outputs": [],
   "source": [
    "a=5\n"
   ]
  },
  {
   "cell_type": "code",
   "execution_count": 19,
   "id": "ac795cfb-ad1e-4b29-ad09-ff49928fbaea",
   "metadata": {},
   "outputs": [
    {
     "data": {
      "text/plain": [
       "5"
      ]
     },
     "execution_count": 19,
     "metadata": {},
     "output_type": "execute_result"
    }
   ],
   "source": [
    "a"
   ]
  },
  {
   "cell_type": "code",
   "execution_count": 21,
   "id": "74093727-8ef2-4b97-931c-917ad19a71aa",
   "metadata": {},
   "outputs": [
    {
     "name": "stdout",
     "output_type": "stream",
     "text": [
      "1\n",
      "2\n",
      "3\n",
      "4\n",
      "5\n",
      "6\n",
      "7\n",
      "8\n",
      "9\n"
     ]
    }
   ],
   "source": [
    "for i in range(1,10):\n",
    "    print(i)"
   ]
  },
  {
   "cell_type": "code",
   "execution_count": 23,
   "id": "59cfeff3-e18f-40e4-8698-3508228eb0b2",
   "metadata": {},
   "outputs": [
    {
     "name": "stdout",
     "output_type": "stream",
     "text": [
      "1\n",
      "2\n",
      "3\n",
      "4\n",
      "5\n",
      "6\n",
      "7\n",
      "8\n",
      "9\n",
      "10\n"
     ]
    }
   ],
   "source": [
    "i=1 \n",
    "while i<=10:\n",
    "    print(i)\n",
    "    i+=1"
   ]
  },
  {
   "cell_type": "code",
   "execution_count": 25,
   "id": "1fef174b-4d38-4a9e-992f-2231a9123bad",
   "metadata": {},
   "outputs": [
    {
     "name": "stdout",
     "output_type": "stream",
     "text": [
      "sum: 1\n",
      "sum: 3\n",
      "sum: 6\n",
      "sum: 10\n",
      "sum: 15\n",
      "sum: 21\n",
      "sum: 28\n",
      "sum: 36\n",
      "sum: 45\n"
     ]
    }
   ],
   "source": [
    "sum=0\n",
    "for i in range(1,10):\n",
    "    sum+=i\n",
    "    print(\"sum:\",sum)"
   ]
  },
  {
   "cell_type": "code",
   "execution_count": null,
   "id": "651576c5-96e7-4eb0-8c8c-5e3a136c87eb",
   "metadata": {},
   "outputs": [],
   "source": [
    "#using while loop\n",
    "sum=0\n",
    "i=1\n",
    "while i<=10:\n",
    "    sum+=i\n",
    "    i=i+1\n",
    "    print(sum)"
   ]
  },
  {
   "cell_type": "code",
   "execution_count": 1,
   "id": "343327ac-173e-4beb-9807-48cb94b96c3e",
   "metadata": {},
   "outputs": [
    {
     "name": "stdout",
     "output_type": "stream",
     "text": [
      "*\n",
      "**\n",
      "***\n",
      "****\n",
      "*****\n"
     ]
    }
   ],
   "source": [
    "for i in range(1,6):\n",
    "    print('*' * i)"
   ]
  },
  {
   "cell_type": "code",
   "execution_count": 3,
   "id": "a7249893-2ff9-4825-b82e-736646560221",
   "metadata": {},
   "outputs": [
    {
     "name": "stdout",
     "output_type": "stream",
     "text": [
      "*\n",
      "**\n",
      "***\n",
      "****\n",
      "*****\n",
      "******\n",
      "*******\n",
      "********\n",
      "*********\n",
      "**********\n"
     ]
    }
   ],
   "source": [
    "i=1\n",
    "while i<=10:\n",
    "    print('*' * i)\n",
    "    i+=1"
   ]
  },
  {
   "cell_type": "code",
   "execution_count": 9,
   "id": "fee122d8-2850-4ea6-83f0-00a49163ea4b",
   "metadata": {},
   "outputs": [
    {
     "name": "stdin",
     "output_type": "stream",
     "text": [
      "enter the number here 12\n"
     ]
    },
    {
     "name": "stdout",
     "output_type": "stream",
     "text": [
      "12\n",
      "24\n",
      "36\n",
      "48\n",
      "60\n",
      "72\n",
      "84\n",
      "96\n",
      "108\n",
      "120\n"
     ]
    }
   ],
   "source": [
    "#Factorial a number using for loop\n",
    "num=int(input(\"enter the number here\"))\n",
    "for i in range(1,11):\n",
    "    print(i*num)\n",
    "        "
   ]
  },
  {
   "cell_type": "code",
   "execution_count": 15,
   "id": "cca4d331-0fc6-4639-9d7b-aa4e26263eb2",
   "metadata": {},
   "outputs": [
    {
     "ename": "SyntaxError",
     "evalue": "'(' was never closed (1297002952.py, line 2)",
     "output_type": "error",
     "traceback": [
      "\u001b[1;36m  Cell \u001b[1;32mIn[15], line 2\u001b[1;36m\u001b[0m\n\u001b[1;33m    nume=int(input(\"enter the number here\")\u001b[0m\n\u001b[1;37m            ^\u001b[0m\n\u001b[1;31mSyntaxError\u001b[0m\u001b[1;31m:\u001b[0m '(' was never closed\n"
     ]
    }
   ],
   "source": [
    "#using while loop for making the table\n",
    "nume=int(input(\"enter the number here\")\n",
    "while i<11:\n",
    "    print(i* nume)\n",
    "    i+=1"
   ]
  },
  {
   "cell_type": "code",
   "execution_count": 17,
   "id": "71cf5173-6250-4252-8dce-8001c6ed1ecc",
   "metadata": {},
   "outputs": [
    {
     "name": "stdout",
     "output_type": "stream",
     "text": [
      "hello\n"
     ]
    }
   ],
   "source": [
    "print(\"hello\")"
   ]
  },
  {
   "cell_type": "code",
   "execution_count": null,
   "id": "4bb90a02-f803-47f5-a286-5b3f945a2851",
   "metadata": {},
   "outputs": [],
   "source": [
    "#Sum of digit\n",
    "\n"
   ]
  },
  {
   "cell_type": "code",
   "execution_count": 1,
   "id": "a1a19aed-8f23-4955-8bec-6fac0b7d300b",
   "metadata": {},
   "outputs": [
    {
     "name": "stdout",
     "output_type": "stream",
     "text": [
      "0\n",
      "1\n",
      "2\n",
      "3\n",
      "4\n",
      "5\n",
      "6\n",
      "7\n",
      "8\n",
      "9\n"
     ]
    }
   ],
   "source": [
    "for i in range(0,10):\n",
    "    print(i)"
   ]
  },
  {
   "cell_type": "code",
   "execution_count": 1,
   "id": "9707d633-0843-4fda-b701-5d7e6464ff0b",
   "metadata": {},
   "outputs": [
    {
     "ename": "SyntaxError",
     "evalue": "'(' was never closed (3713602827.py, line 1)",
     "output_type": "error",
     "traceback": [
      "\u001b[1;36m  Cell \u001b[1;32mIn[1], line 1\u001b[1;36m\u001b[0m\n\u001b[1;33m    num=int(input(\"enter the number here\")\u001b[0m\n\u001b[1;37m           ^\u001b[0m\n\u001b[1;31mSyntaxError\u001b[0m\u001b[1;31m:\u001b[0m '(' was never closed\n"
     ]
    }
   ],
   "source": [
    "num=int(input(\"enter the number here\")\n",
    "for i in range(1,11):\n",
    "    print(i)"
   ]
  },
  {
   "cell_type": "code",
   "execution_count": 3,
   "id": "d327436a-24cb-4702-8041-afa25a1a3113",
   "metadata": {},
   "outputs": [
    {
     "ename": "SyntaxError",
     "evalue": "'(' was never closed (3713602827.py, line 1)",
     "output_type": "error",
     "traceback": [
      "\u001b[1;36m  Cell \u001b[1;32mIn[3], line 1\u001b[1;36m\u001b[0m\n\u001b[1;33m    num=int(input(\"enter the number here\")\u001b[0m\n\u001b[1;37m           ^\u001b[0m\n\u001b[1;31mSyntaxError\u001b[0m\u001b[1;31m:\u001b[0m '(' was never closed\n"
     ]
    }
   ],
   "source": [
    "num=int(input(\"enter the number here\")\n",
    "for i in range(1,11):\n",
    "    print(i)"
   ]
  },
  {
   "cell_type": "code",
   "execution_count": 5,
   "id": "3aa0f220-ff98-411a-bf66-f9dbeda5916f",
   "metadata": {},
   "outputs": [
    {
     "name": "stdout",
     "output_type": "stream",
     "text": [
      "1\n",
      "2\n",
      "3\n",
      "4\n",
      "5\n",
      "6\n",
      "7\n",
      "8\n",
      "9\n",
      "10\n"
     ]
    }
   ],
   "source": [
    "for i in range(1,11):\n",
    "    print(i)"
   ]
  },
  {
   "cell_type": "code",
   "execution_count": null,
   "id": "01fa74dd-5f8d-4176-aaa0-ff8261cffdb6",
   "metadata": {},
   "outputs": [],
   "source": [
    "i=10\n",
    "while i>=1:\n",
    "    print(i)\n",
    "    i+=1"
   ]
  },
  {
   "cell_type": "code",
   "execution_count": 3,
   "id": "b8e5649b-32c5-44be-8e7f-7884f6460951",
   "metadata": {},
   "outputs": [
    {
     "name": "stdout",
     "output_type": "stream",
     "text": [
      "10\n",
      "9\n",
      "8\n",
      "7\n",
      "6\n",
      "5\n",
      "4\n",
      "3\n",
      "2\n",
      "1\n"
     ]
    }
   ],
   "source": [
    "i=10\n",
    "while i>=1:\n",
    "    print(i)\n",
    "    i-=1"
   ]
  },
  {
   "cell_type": "code",
   "execution_count": 1,
   "id": "307fd942-105b-4857-bc27-f69ec7be56d6",
   "metadata": {},
   "outputs": [
    {
     "name": "stdout",
     "output_type": "stream",
     "text": [
      "helo\n"
     ]
    }
   ],
   "source": [
    "print(\"helo\")"
   ]
  },
  {
   "cell_type": "code",
   "execution_count": 7,
   "id": "bfb631de-95f0-49f8-a026-9aa9e98e83cf",
   "metadata": {},
   "outputs": [
    {
     "ename": "IndentationError",
     "evalue": "expected an indented block after 'if' statement on line 3 (148989679.py, line 4)",
     "output_type": "error",
     "traceback": [
      "\u001b[1;36m  Cell \u001b[1;32mIn[7], line 4\u001b[1;36m\u001b[0m\n\u001b[1;33m    print(i)\u001b[0m\n\u001b[1;37m    ^\u001b[0m\n\u001b[1;31mIndentationError\u001b[0m\u001b[1;31m:\u001b[0m expected an indented block after 'if' statement on line 3\n"
     ]
    }
   ],
   "source": [
    "#print all number between 1 and 20 using for loop \n",
    "for i in range(1,21):\n",
    "    if i%2==0:\n",
    "    print(i)"
   ]
  },
  {
   "cell_type": "code",
   "execution_count": 9,
   "id": "b8738dd0-0c5f-4292-9732-16914da002fb",
   "metadata": {},
   "outputs": [
    {
     "ename": "IndentationError",
     "evalue": "expected an indented block after 'if' statement on line 2 (469630673.py, line 3)",
     "output_type": "error",
     "traceback": [
      "\u001b[1;36m  Cell \u001b[1;32mIn[9], line 3\u001b[1;36m\u001b[0m\n\u001b[1;33m    print(i)\u001b[0m\n\u001b[1;37m    ^\u001b[0m\n\u001b[1;31mIndentationError\u001b[0m\u001b[1;31m:\u001b[0m expected an indented block after 'if' statement on line 2\n"
     ]
    }
   ],
   "source": [
    "for i in range(1,21):\n",
    "    if i%2==0:\n",
    "    print(i)"
   ]
  },
  {
   "cell_type": "code",
   "execution_count": 11,
   "id": "1d8dc688-be19-4f00-a1c7-acd68e4f9667",
   "metadata": {},
   "outputs": [
    {
     "name": "stdout",
     "output_type": "stream",
     "text": [
      "2\n",
      "4\n",
      "6\n",
      "8\n",
      "10\n",
      "12\n",
      "14\n",
      "16\n",
      "18\n"
     ]
    }
   ],
   "source": [
    "for i in range(1,20):\n",
    "    if i % 2==0:\n",
    "        print(i)"
   ]
  },
  {
   "cell_type": "code",
   "execution_count": null,
   "id": "9973e1e6-51be-4783-bb8d-736daf92b7b4",
   "metadata": {},
   "outputs": [],
   "source": [
    "#Reverse a string using for loop \n",
    "string=\"hello\"\n",
    "reversed_string=\"\"\n",
    "for char in string:"
   ]
  },
  {
   "cell_type": "code",
   "execution_count": 13,
   "id": "b16e1483-989d-4902-93b5-df7db3bda565",
   "metadata": {},
   "outputs": [
    {
     "name": "stdout",
     "output_type": "stream",
     "text": [
      "olleh\n"
     ]
    }
   ],
   "source": [
    "string = \"hello\"\n",
    "reversed_string = \"\"\n",
    "for char in string:\n",
    "    reversed_string = char + reversed_string\n",
    "print(reversed_string)\n"
   ]
  },
  {
   "cell_type": "code",
   "execution_count": 19,
   "id": "f54011e6-eda8-4591-a077-d13e3c711143",
   "metadata": {},
   "outputs": [
    {
     "ename": "SyntaxError",
     "evalue": "'(' was never closed (2672733955.py, line 2)",
     "output_type": "error",
     "traceback": [
      "\u001b[1;36m  Cell \u001b[1;32mIn[19], line 2\u001b[1;36m\u001b[0m\n\u001b[1;33m    num=int(input(\"enter the number here\")\u001b[0m\n\u001b[1;37m           ^\u001b[0m\n\u001b[1;31mSyntaxError\u001b[0m\u001b[1;31m:\u001b[0m '(' was never closed\n"
     ]
    }
   ],
   "source": [
    "#find a factorial a number using whilel loop\n",
    "num=int(input(\"enter the number here\")\n",
    "factorial=1\n",
    "while num>0:\n",
    "    factorial*=number\n",
    "    \n",
    "    print(factorial)"
   ]
  },
  {
   "cell_type": "code",
   "execution_count": 21,
   "id": "e4688298-abd7-4fec-9395-c669adfb2d47",
   "metadata": {},
   "outputs": [
    {
     "name": "stdout",
     "output_type": "stream",
     "text": [
      "Factorial: 120\n"
     ]
    }
   ],
   "source": [
    "num = 5\n",
    "factorial = 1\n",
    "while num > 0:\n",
    "    factorial *= num\n",
    "    num -= 1\n",
    "print(\"Factorial:\", factorial)\n"
   ]
  },
  {
   "cell_type": "code",
   "execution_count": 25,
   "id": "ff8a602f-d173-4360-bbc2-8d4688ea68c8",
   "metadata": {},
   "outputs": [
    {
     "name": "stdout",
     "output_type": "stream",
     "text": [
      "7\n",
      "42\n",
      "210\n",
      "840\n",
      "2520\n",
      "5040\n",
      "5040\n"
     ]
    }
   ],
   "source": [
    "num=7\n",
    "factorial=1\n",
    "while num>0:\n",
    "    factorial*=num\n",
    "    num-=1\n",
    "    print(factorial)"
   ]
  },
  {
   "cell_type": "code",
   "execution_count": null,
   "id": "20e9449a-d244-4960-ba92-43a1fcee6e0f",
   "metadata": {},
   "outputs": [],
   "source": [
    "#check if a number is prime using for loop\n",
    "\n"
   ]
  },
  {
   "cell_type": "code",
   "execution_count": null,
   "id": "56681628-eba3-4129-984b-fb7b7263d4db",
   "metadata": {},
   "outputs": [],
   "source": []
  },
  {
   "cell_type": "code",
   "execution_count": null,
   "id": "1e5e6dda-6def-4c23-8559-909beb9c9ec9",
   "metadata": {},
   "outputs": [],
   "source": []
  },
  {
   "cell_type": "code",
   "execution_count": null,
   "id": "5d4204c9-0e51-402c-8503-4424d6c2ec5f",
   "metadata": {},
   "outputs": [],
   "source": []
  },
  {
   "cell_type": "code",
   "execution_count": null,
   "id": "fa2fb8fd-05df-42c7-86d2-8aabbb3b0de9",
   "metadata": {},
   "outputs": [],
   "source": []
  },
  {
   "cell_type": "code",
   "execution_count": null,
   "id": "9d4305ea-25a5-407c-881d-8642db14139e",
   "metadata": {},
   "outputs": [],
   "source": []
  },
  {
   "cell_type": "code",
   "execution_count": null,
   "id": "4b8557b2-5c85-486d-aaf8-327de10bfb71",
   "metadata": {},
   "outputs": [],
   "source": []
  }
 ],
 "metadata": {
  "kernelspec": {
   "display_name": "Python 3 (ipykernel)",
   "language": "python",
   "name": "python3"
  },
  "language_info": {
   "codemirror_mode": {
    "name": "ipython",
    "version": 3
   },
   "file_extension": ".py",
   "mimetype": "text/x-python",
   "name": "python",
   "nbconvert_exporter": "python",
   "pygments_lexer": "ipython3",
   "version": "3.12.7"
  }
 },
 "nbformat": 4,
 "nbformat_minor": 5
}
