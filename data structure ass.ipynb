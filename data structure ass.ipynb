{
 "cells": [
  {
   "cell_type": "code",
   "execution_count": 22,
   "id": "b8fa9e19-129f-411f-89de-56f603633359",
   "metadata": {},
   "outputs": [],
   "source": [
    "string=\"pwskill\"\n"
   ]
  },
  {
   "cell_type": "code",
   "execution_count": 24,
   "id": "1b491817-b6ad-4d3a-8b36-c0d1c78fb27c",
   "metadata": {},
   "outputs": [
    {
     "name": "stdout",
     "output_type": "stream",
     "text": [
      "p\n",
      "w\n",
      "s\n",
      "k\n",
      "i\n",
      "l\n",
      "l\n"
     ]
    }
   ],
   "source": [
    "for i in string:\n",
    "    print(i)"
   ]
  },
  {
   "cell_type": "code",
   "execution_count": 26,
   "id": "511036d7-3873-4e38-8014-93ca284dea40",
   "metadata": {},
   "outputs": [],
   "source": [
    "z=\"hello how are you guys\"\n"
   ]
  },
  {
   "cell_type": "code",
   "execution_count": 28,
   "id": "2510fd02-54d4-49fe-8976-20305c221214",
   "metadata": {},
   "outputs": [
    {
     "data": {
      "text/plain": [
       "'ello how are you guys'"
      ]
     },
     "execution_count": 28,
     "metadata": {},
     "output_type": "execute_result"
    }
   ],
   "source": [
    "z[1:]"
   ]
  },
  {
   "cell_type": "code",
   "execution_count": 30,
   "id": "8f5ea0ff-c1a9-46c5-a15f-53b110082e01",
   "metadata": {},
   "outputs": [
    {
     "data": {
      "text/plain": [
       "'s'"
      ]
     },
     "execution_count": 30,
     "metadata": {},
     "output_type": "execute_result"
    }
   ],
   "source": [
    "z[-1:]"
   ]
  },
  {
   "cell_type": "code",
   "execution_count": 36,
   "id": "d53ca088-dc23-4938-8f9f-b6193dd09305",
   "metadata": {},
   "outputs": [
    {
     "data": {
      "text/plain": [
       "''"
      ]
     },
     "execution_count": 36,
     "metadata": {},
     "output_type": "execute_result"
    }
   ],
   "source": [
    "z[-1:3]"
   ]
  },
  {
   "cell_type": "code",
   "execution_count": 38,
   "id": "4d91f263-094f-4e73-b6b7-66f849f9232b",
   "metadata": {},
   "outputs": [
    {
     "data": {
      "text/plain": [
       "'g'"
      ]
     },
     "execution_count": 38,
     "metadata": {},
     "output_type": "execute_result"
    }
   ],
   "source": [
    "z[-4]"
   ]
  },
  {
   "cell_type": "code",
   "execution_count": 40,
   "id": "b5978e13-e3b1-4236-9a11-22d7a71b6539",
   "metadata": {},
   "outputs": [
    {
     "data": {
      "text/plain": [
       "'hello how are you guys'"
      ]
     },
     "execution_count": 40,
     "metadata": {},
     "output_type": "execute_result"
    }
   ],
   "source": [
    "z[::1]"
   ]
  },
  {
   "cell_type": "code",
   "execution_count": 42,
   "id": "73f2724f-4b28-4d8f-87e9-43383ab62858",
   "metadata": {},
   "outputs": [
    {
     "data": {
      "text/plain": [
       "'syug uoy era woh olleh'"
      ]
     },
     "execution_count": 42,
     "metadata": {},
     "output_type": "execute_result"
    }
   ],
   "source": [
    "z[::-1]"
   ]
  },
  {
   "cell_type": "code",
   "execution_count": 44,
   "id": "635afae8-2d98-4ce5-a42b-bf296e848025",
   "metadata": {},
   "outputs": [
    {
     "data": {
      "text/plain": [
       "'hello '"
      ]
     },
     "execution_count": 44,
     "metadata": {},
     "output_type": "execute_result"
    }
   ],
   "source": [
    "z[:6]"
   ]
  },
  {
   "cell_type": "code",
   "execution_count": 46,
   "id": "c923b6ef-914f-4fc1-b27c-72f0afcc0df7",
   "metadata": {},
   "outputs": [
    {
     "data": {
      "text/plain": [
       "'hlohw'"
      ]
     },
     "execution_count": 46,
     "metadata": {},
     "output_type": "execute_result"
    }
   ],
   "source": [
    "z[0:10:2]"
   ]
  },
  {
   "cell_type": "code",
   "execution_count": null,
   "id": "974f95f6-ac46-400e-a377-b1acebfc8b7a",
   "metadata": {},
   "outputs": [],
   "source": [
    "#string are immutable \n"
   ]
  },
  {
   "cell_type": "code",
   "execution_count": 48,
   "id": "8bfdd094-59f7-4ed9-bb21-daecdd1c2cd9",
   "metadata": {},
   "outputs": [
    {
     "data": {
      "text/plain": [
       "22"
      ]
     },
     "execution_count": 48,
     "metadata": {},
     "output_type": "execute_result"
    }
   ],
   "source": [
    "len(z)"
   ]
  },
  {
   "cell_type": "code",
   "execution_count": 50,
   "id": "30be5d96-bfab-4042-91d9-b94c09ec2a55",
   "metadata": {},
   "outputs": [
    {
     "data": {
      "text/plain": [
       "'hii how are you guys'"
      ]
     },
     "execution_count": 50,
     "metadata": {},
     "output_type": "execute_result"
    }
   ],
   "source": [
    "z.replace(\"hello\",\"hii\")"
   ]
  },
  {
   "cell_type": "code",
   "execution_count": 52,
   "id": "27dd801e-3d5c-41b8-9eef-9949101d4b38",
   "metadata": {},
   "outputs": [
    {
     "data": {
      "text/plain": [
       "'hello how are they guys'"
      ]
     },
     "execution_count": 52,
     "metadata": {},
     "output_type": "execute_result"
    }
   ],
   "source": [
    "z.replace(\"hii\",\"hey\").replace(\"you\",\"they\")"
   ]
  },
  {
   "cell_type": "code",
   "execution_count": 54,
   "id": "8966c59f-9d59-485f-90ac-19889f913fdb",
   "metadata": {},
   "outputs": [
    {
     "data": {
      "text/plain": [
       "'HELLO HOW ARE YOU GUYS'"
      ]
     },
     "execution_count": 54,
     "metadata": {},
     "output_type": "execute_result"
    }
   ],
   "source": [
    "z.upper()"
   ]
  },
  {
   "cell_type": "code",
   "execution_count": 56,
   "id": "3c1fc6fb-4132-4f0f-aacb-d29c92a632e6",
   "metadata": {},
   "outputs": [
    {
     "data": {
      "text/plain": [
       "'Hello How Are You Guys'"
      ]
     },
     "execution_count": 56,
     "metadata": {},
     "output_type": "execute_result"
    }
   ],
   "source": [
    "z.title()"
   ]
  },
  {
   "cell_type": "code",
   "execution_count": 58,
   "id": "ee67d61c-281d-4be0-9f53-7b30b8a1e60e",
   "metadata": {},
   "outputs": [
    {
     "data": {
      "text/plain": [
       "'HELLO HOW ARE YOU GUYS'"
      ]
     },
     "execution_count": 58,
     "metadata": {},
     "output_type": "execute_result"
    }
   ],
   "source": [
    "z.swapcase()"
   ]
  },
  {
   "cell_type": "code",
   "execution_count": 60,
   "id": "e37c85f5-319f-45af-84bf-5daefe619121",
   "metadata": {},
   "outputs": [
    {
     "data": {
      "text/plain": [
       "'hello how are you guys'"
      ]
     },
     "execution_count": 60,
     "metadata": {},
     "output_type": "execute_result"
    }
   ],
   "source": [
    "z.lower()"
   ]
  },
  {
   "cell_type": "code",
   "execution_count": 62,
   "id": "f7a1b9b4-6936-46d4-b797-bf8341f3e79d",
   "metadata": {},
   "outputs": [
    {
     "data": {
      "text/plain": [
       "'HELLO HOW ARE YOU GUYS'"
      ]
     },
     "execution_count": 62,
     "metadata": {},
     "output_type": "execute_result"
    }
   ],
   "source": [
    "z.swapcase()"
   ]
  },
  {
   "cell_type": "code",
   "execution_count": 64,
   "id": "1aef0bba-4f7d-4c20-bb6e-5b45ba797120",
   "metadata": {},
   "outputs": [
    {
     "data": {
      "text/plain": [
       "'Hello how are you guys'"
      ]
     },
     "execution_count": 64,
     "metadata": {},
     "output_type": "execute_result"
    }
   ],
   "source": [
    "z.capitalize()"
   ]
  },
  {
   "cell_type": "code",
   "execution_count": 66,
   "id": "ef60991f-4ee4-4d6e-8c59-2673c769ceac",
   "metadata": {},
   "outputs": [
    {
     "data": {
      "text/plain": [
       "True"
      ]
     },
     "execution_count": 66,
     "metadata": {},
     "output_type": "execute_result"
    }
   ],
   "source": [
    "\"are\" in z"
   ]
  },
  {
   "cell_type": "code",
   "execution_count": 76,
   "id": "2954c955-d700-4acf-a33a-c1c73855cfd6",
   "metadata": {},
   "outputs": [
    {
     "name": "stdout",
     "output_type": "stream",
     "text": [
      "this is present\n"
     ]
    }
   ],
   "source": [
    "x=\"how\"\n",
    "if x in z:\n",
    "    print(\"this is present\")"
   ]
  },
  {
   "cell_type": "code",
   "execution_count": 80,
   "id": "873da519-709b-45a8-8e22-4caebc9072bd",
   "metadata": {},
   "outputs": [
    {
     "data": {
      "text/plain": [
       "True"
      ]
     },
     "execution_count": 80,
     "metadata": {},
     "output_type": "execute_result"
    }
   ],
   "source": [
    "#string comprison\n",
    "a=\"s\"\n",
    "b=\"s\"\n",
    "a==b"
   ]
  },
  {
   "cell_type": "code",
   "execution_count": 82,
   "id": "ebea1538-7fc2-4fe8-ad94-4d41d9772298",
   "metadata": {},
   "outputs": [
    {
     "data": {
      "text/plain": [
       "['ajay', 'gupta', 'kumar']"
      ]
     },
     "execution_count": 82,
     "metadata": {},
     "output_type": "execute_result"
    }
   ],
   "source": [
    "v=[\"ajay\",\"kumar\",\"gupta\"]\n",
    "sorted(v)"
   ]
  },
  {
   "cell_type": "code",
   "execution_count": 88,
   "id": "7439b9de-7b5a-430c-aecc-3aec552a92e1",
   "metadata": {},
   "outputs": [
    {
     "data": {
      "text/plain": [
       "<function str.strip(chars=None, /)>"
      ]
     },
     "execution_count": 88,
     "metadata": {},
     "output_type": "execute_result"
    }
   ],
   "source": [
    "h=\"        helo            \"\n",
    "sorted(h)\n",
    "h.strip"
   ]
  },
  {
   "cell_type": "code",
   "execution_count": 92,
   "id": "ac3862a2-d374-435d-ad77-3490c04dc1cf",
   "metadata": {},
   "outputs": [
    {
     "data": {
      "text/plain": [
       "'helo'"
      ]
     },
     "execution_count": 92,
     "metadata": {},
     "output_type": "execute_result"
    }
   ],
   "source": [
    "h.strip()"
   ]
  },
  {
   "cell_type": "code",
   "execution_count": 94,
   "id": "9e7dc206-d6ed-4776-893b-d21dc4533abd",
   "metadata": {},
   "outputs": [
    {
     "data": {
      "text/plain": [
       "'kapil,data analytics,student'"
      ]
     },
     "execution_count": 94,
     "metadata": {},
     "output_type": "execute_result"
    }
   ],
   "source": [
    "data=\"kapil,data analytics,student\"\n",
    "data"
   ]
  },
  {
   "cell_type": "code",
   "execution_count": 100,
   "id": "57b89447-ba1b-4307-a666-4d435e8ef0f5",
   "metadata": {},
   "outputs": [],
   "source": [
    "student_info=data.split(',')"
   ]
  },
  {
   "cell_type": "code",
   "execution_count": 102,
   "id": "b1440a70-34ac-4bdb-870c-eb0ea562c0e4",
   "metadata": {},
   "outputs": [
    {
     "data": {
      "text/plain": [
       "['kapil', 'data analytics', 'student']"
      ]
     },
     "execution_count": 102,
     "metadata": {},
     "output_type": "execute_result"
    }
   ],
   "source": [
    "student_info"
   ]
  },
  {
   "cell_type": "code",
   "execution_count": 104,
   "id": "4e90862d-8abd-43b7-801a-e39d3e531088",
   "metadata": {},
   "outputs": [],
   "source": [
    "name=student_info[0]\n",
    "subject=student_info[1]\n",
    "des=student_info[2]"
   ]
  },
  {
   "cell_type": "code",
   "execution_count": 106,
   "id": "d97e4ad1-09c3-43fa-afa7-f6acab8d231e",
   "metadata": {},
   "outputs": [
    {
     "data": {
      "text/plain": [
       "'kapil'"
      ]
     },
     "execution_count": 106,
     "metadata": {},
     "output_type": "execute_result"
    }
   ],
   "source": [
    "name"
   ]
  },
  {
   "cell_type": "code",
   "execution_count": 108,
   "id": "966ee85b-3db2-40a0-8156-b0f46511a793",
   "metadata": {},
   "outputs": [
    {
     "data": {
      "text/plain": [
       "'student'"
      ]
     },
     "execution_count": 108,
     "metadata": {},
     "output_type": "execute_result"
    }
   ],
   "source": [
    "des"
   ]
  },
  {
   "cell_type": "code",
   "execution_count": 110,
   "id": "b230e841-367a-4932-b45d-87fef832fe07",
   "metadata": {},
   "outputs": [
    {
     "data": {
      "text/plain": [
       "'data analytics'"
      ]
     },
     "execution_count": 110,
     "metadata": {},
     "output_type": "execute_result"
    }
   ],
   "source": [
    "subject"
   ]
  },
  {
   "cell_type": "code",
   "execution_count": 112,
   "id": "04aa82a2-c489-4a26-9699-9cb937474dfb",
   "metadata": {},
   "outputs": [
    {
     "data": {
      "text/plain": [
       "'student'"
      ]
     },
     "execution_count": 112,
     "metadata": {},
     "output_type": "execute_result"
    }
   ],
   "source": [
    "des.strip()"
   ]
  },
  {
   "cell_type": "code",
   "execution_count": 118,
   "id": "945cf454-7149-4ff5-9360-18e59951e341",
   "metadata": {},
   "outputs": [],
   "source": [
    "#escape sequences=special combination of charcter use with a string\n",
    "code=\"\"\"hello , kapil verma ,your address is \\nhouse no 104 \\nThanwas \\ntehsil nangal choudhary \\npincode 123023\"\"\""
   ]
  },
  {
   "cell_type": "code",
   "execution_count": 130,
   "id": "2498cda0-eaea-4166-86fe-6817d87c63a4",
   "metadata": {},
   "outputs": [
    {
     "name": "stdout",
     "output_type": "stream",
     "text": [
      "hello , kapil verma ,your address is \n",
      "house no 104 \n",
      "Thanwas \n",
      "tehsil nangal choudhary \n",
      "pincode 123023\n"
     ]
    }
   ],
   "source": [
    "print(code)"
   ]
  },
  {
   "cell_type": "code",
   "execution_count": 136,
   "id": "53c40846-a9f8-4a12-8d01-927e9df54223",
   "metadata": {},
   "outputs": [],
   "source": [
    "m=\"hello \\nyes\"\n"
   ]
  },
  {
   "cell_type": "code",
   "execution_count": 138,
   "id": "1df2c23a-5143-4abf-bb5e-4a5e43d1458f",
   "metadata": {},
   "outputs": [
    {
     "name": "stdout",
     "output_type": "stream",
     "text": [
      "hello \n",
      "yes\n"
     ]
    }
   ],
   "source": [
    "print(m)"
   ]
  },
  {
   "cell_type": "code",
   "execution_count": 140,
   "id": "609f6d39-5ac6-4c3f-b43f-61b13104ab2a",
   "metadata": {},
   "outputs": [],
   "source": [
    "result=\"name\\tage\\tgrade \\nrahul\\t23\\tA+ \\nrajiv \\t32 \\tB\""
   ]
  },
  {
   "cell_type": "code",
   "execution_count": 144,
   "id": "6db175c5-7b0c-47b8-8184-b8f0ef5e6183",
   "metadata": {},
   "outputs": [
    {
     "name": "stdout",
     "output_type": "stream",
     "text": [
      "name\tage\tgrade \n",
      "rahul\t23\tA+ \n",
      "rajiv \t32 \tB\n"
     ]
    }
   ],
   "source": [
    "print(result)"
   ]
  },
  {
   "cell_type": "code",
   "execution_count": 148,
   "id": "afabc674-7fe2-4db9-b6bf-ea5e92689a7f",
   "metadata": {},
   "outputs": [
    {
     "data": {
      "text/plain": [
       "'c:user\\\\download\\\\filename\\\\file.text'"
      ]
     },
     "execution_count": 148,
     "metadata": {},
     "output_type": "execute_result"
    }
   ],
   "source": [
    "file_path=\"c:user\\\\download\\\\filename\\\\file.text\"\n",
    "file_path"
   ]
  },
  {
   "cell_type": "code",
   "execution_count": 150,
   "id": "deccde81-b79b-4102-ac64-848f65fd841e",
   "metadata": {},
   "outputs": [
    {
     "name": "stdout",
     "output_type": "stream",
     "text": [
      "c:user\\download\\filename\\file.text\n"
     ]
    }
   ],
   "source": [
    "print(file_path)"
   ]
  },
  {
   "cell_type": "code",
   "execution_count": 158,
   "id": "2279e860-0cfa-4df9-ad08-ca115ba72e38",
   "metadata": {},
   "outputs": [],
   "source": [
    "n=\"pw_skillKapil-Kumar0/pw_skill\\npdffileview\\nKapil-Kumar0/pdffileview\\npython-code\\nKapil-Kumar0/python-code\\nKapil-Kumar0\\nKapil-Kumar0/Kapil-Kumar0\""
   ]
  },
  {
   "cell_type": "code",
   "execution_count": 162,
   "id": "4b998f8f-cf81-421b-9e56-4e72c27eafa8",
   "metadata": {},
   "outputs": [
    {
     "name": "stdout",
     "output_type": "stream",
     "text": [
      "pw_skillKapil-Kumar0/pw_skill\n",
      "pdffileview\n",
      "Kapil-Kumar0/pdffileview\n",
      "python-code\n",
      "Kapil-Kumar0/python-code\n",
      "Kapil-Kumar0\n",
      "Kapil-Kumar0/Kapil-Kumar0\n"
     ]
    }
   ],
   "source": [
    "print(n)"
   ]
  },
  {
   "cell_type": "code",
   "execution_count": 172,
   "id": "6122e43a-ccd7-40a5-88ef-0107e1f4d766",
   "metadata": {},
   "outputs": [],
   "source": [
    "#String formmating in python\n",
    "#creating string in place holder\n",
    "place=\"hello\"\n",
    "mister=f\"{place} how are you guys\""
   ]
  },
  {
   "cell_type": "code",
   "execution_count": 174,
   "id": "cb69cb0e-2726-4b30-b7f6-52c91faa7ea4",
   "metadata": {},
   "outputs": [
    {
     "name": "stdout",
     "output_type": "stream",
     "text": [
      "hello how are you guys\n"
     ]
    }
   ],
   "source": [
    "print(mister)"
   ]
  },
  {
   "cell_type": "code",
   "execution_count": 180,
   "id": "72ad82eb-5894-4045-9264-f0762e8a6627",
   "metadata": {},
   "outputs": [],
   "source": [
    "#.format in string formation\n",
    "hello=\"hello {} how are {}\"\n",
    "value=hello.format(\"how\",\"you\")"
   ]
  },
  {
   "cell_type": "code",
   "execution_count": 182,
   "id": "9dfc47d5-76ed-4a9c-bbb5-0757acc3bcd1",
   "metadata": {},
   "outputs": [
    {
     "name": "stdout",
     "output_type": "stream",
     "text": [
      "hello {} how are {}\n"
     ]
    }
   ],
   "source": [
    "print(hello)"
   ]
  },
  {
   "cell_type": "code",
   "execution_count": 184,
   "id": "724a9305-3a68-4d86-bca9-257fdb43202f",
   "metadata": {},
   "outputs": [
    {
     "name": "stdout",
     "output_type": "stream",
     "text": [
      "hello how how are you\n"
     ]
    }
   ],
   "source": [
    "print(value)"
   ]
  },
  {
   "cell_type": "code",
   "execution_count": 186,
   "id": "ae00bdeb-54d9-4d3d-bb4a-17e6731a74d4",
   "metadata": {},
   "outputs": [
    {
     "data": {
      "text/plain": [
       "False"
      ]
     },
     "execution_count": 186,
     "metadata": {},
     "output_type": "execute_result"
    }
   ],
   "source": [
    "hello.startswith(\"k\")"
   ]
  },
  {
   "cell_type": "code",
   "execution_count": 192,
   "id": "e388b9f3-557d-4500-a899-caea4a4efc54",
   "metadata": {},
   "outputs": [
    {
     "name": "stdout",
     "output_type": "stream",
     "text": [
      "h\n",
      "1\n",
      "e\n",
      "2\n",
      "l\n",
      "3\n",
      "l\n",
      "4\n",
      "o\n",
      "5\n",
      " \n",
      "6\n",
      "{\n",
      "7\n",
      "}\n",
      "8\n",
      " \n",
      "9\n",
      "h\n",
      "10\n",
      "o\n",
      "11\n",
      "w\n",
      "12\n",
      " \n",
      "13\n",
      "a\n",
      "14\n",
      "r\n",
      "15\n",
      "e\n",
      "16\n",
      " \n",
      "17\n",
      "{\n",
      "18\n",
      "}\n",
      "19\n"
     ]
    }
   ],
   "source": [
    "count=0\n",
    "for i in hello:\n",
    "    print(i)\n",
    "    count+=1\n",
    "    print(count)\n"
   ]
  },
  {
   "cell_type": "code",
   "execution_count": 194,
   "id": "98b71e00-45ef-4de1-9883-f0c33b63cf65",
   "metadata": {},
   "outputs": [
    {
     "name": "stdout",
     "output_type": "stream",
     "text": [
      "hello\n"
     ]
    }
   ],
   "source": [
    "print(\"hello\")"
   ]
  },
  {
   "cell_type": "code",
   "execution_count": 196,
   "id": "5a9ca91d-7d84-40ae-8dc8-bc19c6a3694a",
   "metadata": {},
   "outputs": [],
   "source": [
    "#list are define as square bracket its like a shopping bag that can stored everything\n",
    "grocery_list=[\"apple\",\"orange\",\"yellow\",1,3,5,\"kapil\"]\n"
   ]
  },
  {
   "cell_type": "code",
   "execution_count": 198,
   "id": "f5f8312d-a86b-4aba-a586-317ef209bb71",
   "metadata": {},
   "outputs": [
    {
     "data": {
      "text/plain": [
       "['apple', 'orange', 'yellow', 1, 3, 5, 'kapil']"
      ]
     },
     "execution_count": 198,
     "metadata": {},
     "output_type": "execute_result"
    }
   ],
   "source": [
    "grocery_list"
   ]
  },
  {
   "cell_type": "code",
   "execution_count": 200,
   "id": "cfb9e621-5664-4b35-9a2c-f950175b9cb6",
   "metadata": {},
   "outputs": [
    {
     "name": "stdout",
     "output_type": "stream",
     "text": [
      "apple\n",
      "orange\n",
      "yellow\n",
      "1\n",
      "3\n",
      "5\n",
      "kapil\n"
     ]
    }
   ],
   "source": [
    "for i in grocery_list:\n",
    "    print(i)"
   ]
  },
  {
   "cell_type": "code",
   "execution_count": 202,
   "id": "466952c9-f7da-4648-85d7-5d09d05a7a10",
   "metadata": {},
   "outputs": [
    {
     "name": "stdout",
     "output_type": "stream",
     "text": [
      "pwskills\n"
     ]
    }
   ],
   "source": [
    "a=\"pwskills\"\n",
    "print(a)"
   ]
  },
  {
   "cell_type": "code",
   "execution_count": 204,
   "id": "3a32efb9-2ccb-41a7-b4a9-f59dcc5f8d5e",
   "metadata": {},
   "outputs": [
    {
     "data": {
      "text/plain": [
       "['p', 'w', 's', 'k', 'i', 'l', 'l', 's']"
      ]
     },
     "execution_count": 204,
     "metadata": {},
     "output_type": "execute_result"
    }
   ],
   "source": [
    "list(a)"
   ]
  },
  {
   "cell_type": "code",
   "execution_count": 206,
   "id": "4ab1dd92-10f4-4a88-8215-c86981c6e995",
   "metadata": {},
   "outputs": [
    {
     "data": {
      "text/plain": [
       "'w'"
      ]
     },
     "execution_count": 206,
     "metadata": {},
     "output_type": "execute_result"
    }
   ],
   "source": [
    "a[1]"
   ]
  },
  {
   "cell_type": "code",
   "execution_count": 208,
   "id": "11ca0d5c-a16f-480b-91c8-ffa032589af1",
   "metadata": {},
   "outputs": [
    {
     "data": {
      "text/plain": [
       "'pwskills'"
      ]
     },
     "execution_count": 208,
     "metadata": {},
     "output_type": "execute_result"
    }
   ],
   "source": [
    "str(a)"
   ]
  },
  {
   "cell_type": "code",
   "execution_count": 210,
   "id": "e5df65bf-69c6-46fa-b8e1-0b2766c1f82f",
   "metadata": {},
   "outputs": [
    {
     "data": {
      "text/plain": [
       "['p', 'w', 's', 'k', 'i', 'l', 'l', 's']"
      ]
     },
     "execution_count": 210,
     "metadata": {},
     "output_type": "execute_result"
    }
   ],
   "source": [
    "list(a)"
   ]
  },
  {
   "cell_type": "code",
   "execution_count": 212,
   "id": "c8b6b9c4-ef33-4687-a558-4e5d8fd048be",
   "metadata": {},
   "outputs": [
    {
     "data": {
      "text/plain": [
       "'sllikswp'"
      ]
     },
     "execution_count": 212,
     "metadata": {},
     "output_type": "execute_result"
    }
   ],
   "source": [
    "a[::-1]"
   ]
  },
  {
   "cell_type": "code",
   "execution_count": 214,
   "id": "28a96caa-85a2-4e21-9f96-a38e9761d001",
   "metadata": {},
   "outputs": [
    {
     "data": {
      "text/plain": [
       "'wkls'"
      ]
     },
     "execution_count": 214,
     "metadata": {},
     "output_type": "execute_result"
    }
   ],
   "source": [
    "a[1:8:2]"
   ]
  },
  {
   "cell_type": "code",
   "execution_count": 216,
   "id": "a1dca1ae-99a9-4981-a437-51b0a11df2db",
   "metadata": {},
   "outputs": [
    {
     "data": {
      "text/plain": [
       "['hello', 'kapil', 'verma', 'how', 'are', 'you']"
      ]
     },
     "execution_count": 216,
     "metadata": {},
     "output_type": "execute_result"
    }
   ],
   "source": [
    "queue=[\"hello\",\"kapil\",\"verma\",\"how\",\"are\",\"you\"]\n",
    "queue"
   ]
  },
  {
   "cell_type": "code",
   "execution_count": 218,
   "id": "7f1a0af3-9b7e-4a0d-9ac7-eb1a119f6bdf",
   "metadata": {},
   "outputs": [],
   "source": [
    "queue.append(\"orange\")"
   ]
  },
  {
   "cell_type": "code",
   "execution_count": 224,
   "id": "e48225fe-5809-403d-a305-f518216e28af",
   "metadata": {},
   "outputs": [
    {
     "data": {
      "text/plain": [
       "['hello',\n",
       " 'kapil',\n",
       " 'verma',\n",
       " 'how',\n",
       " 'are',\n",
       " 'you',\n",
       " 'orange',\n",
       " 'sare jahan se achaa']"
      ]
     },
     "execution_count": 224,
     "metadata": {},
     "output_type": "execute_result"
    }
   ],
   "source": [
    "queue"
   ]
  },
  {
   "cell_type": "code",
   "execution_count": 222,
   "id": "6b75e614-8afe-41b8-95bf-cefb37036d67",
   "metadata": {},
   "outputs": [],
   "source": [
    "queue.append(\"sare jahan se achaa\")"
   ]
  },
  {
   "cell_type": "code",
   "execution_count": 226,
   "id": "50e534f2-4d1c-479c-a902-e81b76d6dc53",
   "metadata": {},
   "outputs": [],
   "source": [
    "#list are mutable\n",
    "queue[1]=\"brinjal\""
   ]
  },
  {
   "cell_type": "code",
   "execution_count": 228,
   "id": "164796c6-1aa8-441b-ae15-b68f99b4862b",
   "metadata": {},
   "outputs": [
    {
     "data": {
      "text/plain": [
       "['hello',\n",
       " 'brinjal',\n",
       " 'verma',\n",
       " 'how',\n",
       " 'are',\n",
       " 'you',\n",
       " 'orange',\n",
       " 'sare jahan se achaa']"
      ]
     },
     "execution_count": 228,
     "metadata": {},
     "output_type": "execute_result"
    }
   ],
   "source": [
    "queue"
   ]
  },
  {
   "cell_type": "code",
   "execution_count": 230,
   "id": "2e5e4b3b-5217-4c76-93eb-fceebb9568da",
   "metadata": {},
   "outputs": [
    {
     "data": {
      "text/plain": [
       "['hello',\n",
       " 'brinjal',\n",
       " 'verma',\n",
       " 'how',\n",
       " 'are',\n",
       " 'you',\n",
       " 'orange',\n",
       " 'sare jahan se achaa']"
      ]
     },
     "execution_count": 230,
     "metadata": {},
     "output_type": "execute_result"
    }
   ],
   "source": [
    "queue"
   ]
  },
  {
   "cell_type": "code",
   "execution_count": 232,
   "id": "595a56ff-f101-4b8d-8adc-9cc5a118e883",
   "metadata": {},
   "outputs": [],
   "source": [
    "queue.insert(1,\"banana\")"
   ]
  },
  {
   "cell_type": "code",
   "execution_count": 234,
   "id": "9dbd00d1-1195-4a2f-8f60-92332b9bf94b",
   "metadata": {},
   "outputs": [
    {
     "data": {
      "text/plain": [
       "['hello',\n",
       " 'banana',\n",
       " 'brinjal',\n",
       " 'verma',\n",
       " 'how',\n",
       " 'are',\n",
       " 'you',\n",
       " 'orange',\n",
       " 'sare jahan se achaa']"
      ]
     },
     "execution_count": 234,
     "metadata": {},
     "output_type": "execute_result"
    }
   ],
   "source": [
    "queue"
   ]
  },
  {
   "cell_type": "code",
   "execution_count": 238,
   "id": "8be023d2-5996-4975-bbf0-424c9b358eff",
   "metadata": {},
   "outputs": [],
   "source": [
    "queue.insert(5,\"ram\")"
   ]
  },
  {
   "cell_type": "code",
   "execution_count": 240,
   "id": "f63a0fd4-d499-4f07-96a7-346245cc876a",
   "metadata": {},
   "outputs": [
    {
     "data": {
      "text/plain": [
       "['hello',\n",
       " 'banana',\n",
       " 'brinjal',\n",
       " 'verma',\n",
       " 'how',\n",
       " 'ram',\n",
       " 'are',\n",
       " 'you',\n",
       " 'orange',\n",
       " 'sare jahan se achaa']"
      ]
     },
     "execution_count": 240,
     "metadata": {},
     "output_type": "execute_result"
    }
   ],
   "source": [
    "queue"
   ]
  },
  {
   "cell_type": "code",
   "execution_count": 262,
   "id": "2a190470-b2cd-49ce-ad87-71c878673752",
   "metadata": {},
   "outputs": [],
   "source": [
    "c=[\"hello\",\"kapil\",\"verma\"]\n",
    "d=[\"mister\",\"raghav\"]\n",
    "y=c.extend(d)"
   ]
  },
  {
   "cell_type": "code",
   "execution_count": 264,
   "id": "7be38950-3fb4-47ab-9620-9ad8404856d9",
   "metadata": {},
   "outputs": [],
   "source": [
    "y"
   ]
  },
  {
   "cell_type": "code",
   "execution_count": 260,
   "id": "382f293b-a13d-44d4-986f-144fcb8f0a73",
   "metadata": {},
   "outputs": [
    {
     "name": "stdout",
     "output_type": "stream",
     "text": [
      "hellO\n"
     ]
    }
   ],
   "source": [
    "print(\"hellO\")"
   ]
  },
  {
   "cell_type": "code",
   "execution_count": 266,
   "id": "ae818bcc-99a0-4586-9f9c-3023874d6d6f",
   "metadata": {},
   "outputs": [
    {
     "data": {
      "text/plain": [
       "['hello', 'kapil', 'verma', 'mister', 'raghav']"
      ]
     },
     "execution_count": 266,
     "metadata": {},
     "output_type": "execute_result"
    }
   ],
   "source": [
    "c"
   ]
  },
  {
   "cell_type": "code",
   "execution_count": 268,
   "id": "66e0c9f0-b03f-4bad-8bb9-c44395c0fa32",
   "metadata": {},
   "outputs": [
    {
     "data": {
      "text/plain": [
       "['mister', 'raghav']"
      ]
     },
     "execution_count": 268,
     "metadata": {},
     "output_type": "execute_result"
    }
   ],
   "source": [
    "d"
   ]
  },
  {
   "cell_type": "code",
   "execution_count": 270,
   "id": "b335af1c-b3f4-4dd2-a446-2f298be634fa",
   "metadata": {},
   "outputs": [],
   "source": [
    "c.extend(d)"
   ]
  },
  {
   "cell_type": "code",
   "execution_count": 272,
   "id": "eeaa03f4-e8b4-4919-a27e-aa77bc1891a4",
   "metadata": {},
   "outputs": [
    {
     "data": {
      "text/plain": [
       "['hello',\n",
       " 'kapil',\n",
       " 'verma',\n",
       " 'mister',\n",
       " 'raghav',\n",
       " 'mister',\n",
       " 'raghav',\n",
       " 'mister',\n",
       " 'raghav']"
      ]
     },
     "execution_count": 272,
     "metadata": {},
     "output_type": "execute_result"
    }
   ],
   "source": [
    "c+d"
   ]
  },
  {
   "cell_type": "code",
   "execution_count": 274,
   "id": "75b2aeac-0d46-4122-acbb-11ee9c3c7d11",
   "metadata": {},
   "outputs": [
    {
     "data": {
      "text/plain": [
       "'**********'"
      ]
     },
     "execution_count": 274,
     "metadata": {},
     "output_type": "execute_result"
    }
   ],
   "source": [
    "\"*\" * 10"
   ]
  },
  {
   "cell_type": "code",
   "execution_count": 278,
   "id": "64e7fba8-7064-4114-9542-fda0f00eef11",
   "metadata": {},
   "outputs": [
    {
     "data": {
      "text/plain": [
       "['hello',\n",
       " 'kapil',\n",
       " 'verma',\n",
       " 'mister',\n",
       " 'raghav',\n",
       " 'mister',\n",
       " 'raghav',\n",
       " 'hello',\n",
       " 'kapil',\n",
       " 'verma',\n",
       " 'mister',\n",
       " 'raghav',\n",
       " 'mister',\n",
       " 'raghav']"
      ]
     },
     "execution_count": 278,
     "metadata": {},
     "output_type": "execute_result"
    }
   ],
   "source": [
    "c*2"
   ]
  },
  {
   "cell_type": "code",
   "execution_count": 280,
   "id": "01fb1e24-1ebd-4257-8ef7-ce1ee2bfb560",
   "metadata": {},
   "outputs": [
    {
     "data": {
      "text/plain": [
       "range(1, 4)"
      ]
     },
     "execution_count": 280,
     "metadata": {},
     "output_type": "execute_result"
    }
   ],
   "source": [
    "range(1,4)"
   ]
  },
  {
   "cell_type": "code",
   "execution_count": 282,
   "id": "8ac6cc96-9150-4dad-858b-741a87c943f1",
   "metadata": {},
   "outputs": [
    {
     "data": {
      "text/plain": [
       "[1, 2, 3, 4, 5, 6, 7, 8, 9]"
      ]
     },
     "execution_count": 282,
     "metadata": {},
     "output_type": "execute_result"
    }
   ],
   "source": [
    "list(range(1,10))"
   ]
  },
  {
   "cell_type": "code",
   "execution_count": 284,
   "id": "6e452f87-3623-4753-af62-29de1456841f",
   "metadata": {},
   "outputs": [
    {
     "name": "stdout",
     "output_type": "stream",
     "text": [
      "your appoitment is tommorow \n",
      "\n"
     ]
    }
   ],
   "source": [
    "h=\"your appoitment is tommorow \\n\"\n",
    "print(h)"
   ]
  },
  {
   "cell_type": "code",
   "execution_count": 286,
   "id": "5cdde784-f604-4d42-bd1e-5eca9f3766a1",
   "metadata": {},
   "outputs": [
    {
     "name": "stdout",
     "output_type": "stream",
     "text": [
      "your appoitment is tommorow \n",
      "your appoitment is tommorow \n",
      "your appoitment is tommorow \n",
      "\n"
     ]
    }
   ],
   "source": [
    "print(h*3)"
   ]
  },
  {
   "cell_type": "code",
   "execution_count": 290,
   "id": "a793fc70-c41a-4e1e-b463-4d38588c8fa0",
   "metadata": {},
   "outputs": [
    {
     "data": {
      "text/plain": [
       "True"
      ]
     },
     "execution_count": 290,
     "metadata": {},
     "output_type": "execute_result"
    }
   ],
   "source": [
    "#membership in or not in \n",
    "\"your\" in h"
   ]
  },
  {
   "cell_type": "code",
   "execution_count": 292,
   "id": "a5715e0e-bf04-4c00-a7c8-e28f42229193",
   "metadata": {},
   "outputs": [
    {
     "data": {
      "text/plain": [
       "True"
      ]
     },
     "execution_count": 292,
     "metadata": {},
     "output_type": "execute_result"
    }
   ],
   "source": [
    "\"x\" not in h"
   ]
  },
  {
   "cell_type": "code",
   "execution_count": 344,
   "id": "0c4c4f9a-0093-47bb-8d0e-fab92be12361",
   "metadata": {},
   "outputs": [],
   "source": [
    "#deep copy and shallow copy\n",
    "j=[\"orange\",\"yellow\",\"pink\",\"red\",\"banana\"]\n"
   ]
  },
  {
   "cell_type": "code",
   "execution_count": 300,
   "id": "b0b580c9-99f5-48e7-8447-e7a2fa76623a",
   "metadata": {},
   "outputs": [],
   "source": [
    "u=j"
   ]
  },
  {
   "cell_type": "code",
   "execution_count": 302,
   "id": "45d0a862-33f2-48ed-8678-765b6e5cbe57",
   "metadata": {},
   "outputs": [],
   "source": [
    "u[4]=\"hey\""
   ]
  },
  {
   "cell_type": "code",
   "execution_count": 304,
   "id": "ac70a587-f4de-464f-8034-1b5bc05dbf0e",
   "metadata": {},
   "outputs": [
    {
     "data": {
      "text/plain": [
       "['orange', 'yellow', 'pink', 'red', 'hey']"
      ]
     },
     "execution_count": 304,
     "metadata": {},
     "output_type": "execute_result"
    }
   ],
   "source": [
    "u"
   ]
  },
  {
   "cell_type": "code",
   "execution_count": 306,
   "id": "b6809c7f-b3be-4249-ac86-7c50455fbe61",
   "metadata": {},
   "outputs": [
    {
     "data": {
      "text/plain": [
       "['orange', 'yellow', 'pink', 'red', 'hey']"
      ]
     },
     "execution_count": 306,
     "metadata": {},
     "output_type": "execute_result"
    }
   ],
   "source": [
    "j"
   ]
  },
  {
   "cell_type": "code",
   "execution_count": 342,
   "id": "2b843a4e-e348-4d69-a0a7-3dc0680faf48",
   "metadata": {},
   "outputs": [
    {
     "data": {
      "text/plain": [
       "[]"
      ]
     },
     "execution_count": 342,
     "metadata": {},
     "output_type": "execute_result"
    }
   ],
   "source": [
    "#sorting list\n",
    "sorted(u)"
   ]
  },
  {
   "cell_type": "code",
   "execution_count": 310,
   "id": "f01d5581-d642-4804-898b-975aeb942472",
   "metadata": {},
   "outputs": [
    {
     "data": {
      "text/plain": [
       "['hey', 'orange', 'pink', 'red', 'yellow']"
      ]
     },
     "execution_count": 310,
     "metadata": {},
     "output_type": "execute_result"
    }
   ],
   "source": [
    "sorted(j)"
   ]
  },
  {
   "cell_type": "code",
   "execution_count": 312,
   "id": "76fc492a-4111-4fea-a888-7c91ea24b63d",
   "metadata": {},
   "outputs": [
    {
     "data": {
      "text/plain": [
       "0"
      ]
     },
     "execution_count": 312,
     "metadata": {},
     "output_type": "execute_result"
    }
   ],
   "source": [
    "u.index(\"orange\")"
   ]
  },
  {
   "cell_type": "code",
   "execution_count": 314,
   "id": "e77f3f15-f93b-4c9d-8131-f30923eb847d",
   "metadata": {},
   "outputs": [
    {
     "data": {
      "text/plain": [
       "1"
      ]
     },
     "execution_count": 314,
     "metadata": {},
     "output_type": "execute_result"
    }
   ],
   "source": [
    "u.count(\"orange\")"
   ]
  },
  {
   "cell_type": "code",
   "execution_count": 316,
   "id": "28e1d9bf-6dcc-4466-863b-e950a4f1c131",
   "metadata": {},
   "outputs": [],
   "source": [
    "u.remove(\"orange\")"
   ]
  },
  {
   "cell_type": "code",
   "execution_count": 318,
   "id": "9481b093-1854-4a87-a80c-5e948a88e4a7",
   "metadata": {},
   "outputs": [
    {
     "data": {
      "text/plain": [
       "['yellow', 'pink', 'red', 'hey']"
      ]
     },
     "execution_count": 318,
     "metadata": {},
     "output_type": "execute_result"
    }
   ],
   "source": [
    "u"
   ]
  },
  {
   "cell_type": "code",
   "execution_count": 320,
   "id": "6fa056b0-2079-46a1-9c70-85c31b5c6fad",
   "metadata": {},
   "outputs": [],
   "source": [
    "del u"
   ]
  },
  {
   "cell_type": "code",
   "execution_count": 324,
   "id": "35651196-9d5c-40e1-aced-4aae23539f13",
   "metadata": {},
   "outputs": [
    {
     "data": {
      "text/plain": [
       "['yellow', 'pink', 'red', 'hey']"
      ]
     },
     "execution_count": 324,
     "metadata": {},
     "output_type": "execute_result"
    }
   ],
   "source": [
    "j"
   ]
  },
  {
   "cell_type": "code",
   "execution_count": 340,
   "id": "3d741160-3540-4639-a1e7-c9919a1320eb",
   "metadata": {},
   "outputs": [],
   "source": [
    "u=j"
   ]
  },
  {
   "cell_type": "code",
   "execution_count": 338,
   "id": "cf788115-5213-4cf4-8ced-56c3624c9f5a",
   "metadata": {},
   "outputs": [
    {
     "data": {
      "text/plain": [
       "[]"
      ]
     },
     "execution_count": 338,
     "metadata": {},
     "output_type": "execute_result"
    }
   ],
   "source": [
    "u"
   ]
  },
  {
   "cell_type": "code",
   "execution_count": 330,
   "id": "d2a14933-28f6-4f4e-bbbc-19007b5cc0c6",
   "metadata": {},
   "outputs": [],
   "source": [
    "u.clear()"
   ]
  },
  {
   "cell_type": "code",
   "execution_count": 332,
   "id": "204cc223-0d91-49aa-bb14-82ac90226a66",
   "metadata": {},
   "outputs": [
    {
     "data": {
      "text/plain": [
       "[]"
      ]
     },
     "execution_count": 332,
     "metadata": {},
     "output_type": "execute_result"
    }
   ],
   "source": [
    "u"
   ]
  },
  {
   "cell_type": "code",
   "execution_count": 334,
   "id": "9f6aa82b-d240-46f7-9c2c-08bf80a1a0db",
   "metadata": {},
   "outputs": [
    {
     "data": {
      "text/plain": [
       "[]"
      ]
     },
     "execution_count": 334,
     "metadata": {},
     "output_type": "execute_result"
    }
   ],
   "source": [
    "j\n"
   ]
  },
  {
   "cell_type": "code",
   "execution_count": 336,
   "id": "edf5c045-a818-4fc1-91a1-f527443ae83a",
   "metadata": {},
   "outputs": [
    {
     "data": {
      "text/plain": [
       "[]"
      ]
     },
     "execution_count": 336,
     "metadata": {},
     "output_type": "execute_result"
    }
   ],
   "source": [
    "u"
   ]
  },
  {
   "cell_type": "code",
   "execution_count": 346,
   "id": "e4f2c523-0575-4967-8eed-faf9d603fb44",
   "metadata": {},
   "outputs": [
    {
     "data": {
      "text/plain": [
       "['orange', 'yellow', 'pink', 'red', 'banana']"
      ]
     },
     "execution_count": 346,
     "metadata": {},
     "output_type": "execute_result"
    }
   ],
   "source": [
    "j"
   ]
  },
  {
   "cell_type": "code",
   "execution_count": 348,
   "id": "00307640-d638-4675-bbe6-cc114743fbdd",
   "metadata": {},
   "outputs": [],
   "source": [
    "u=j"
   ]
  },
  {
   "cell_type": "code",
   "execution_count": 350,
   "id": "e043595d-b200-4ea9-a3f7-46d4ff936797",
   "metadata": {},
   "outputs": [
    {
     "data": {
      "text/plain": [
       "['orange', 'yellow', 'pink', 'red', 'banana']"
      ]
     },
     "execution_count": 350,
     "metadata": {},
     "output_type": "execute_result"
    }
   ],
   "source": [
    "u"
   ]
  },
  {
   "cell_type": "code",
   "execution_count": 352,
   "id": "4b98740e-0e6c-4af7-91f1-a8066416610f",
   "metadata": {},
   "outputs": [
    {
     "data": {
      "text/plain": [
       "'yellow'"
      ]
     },
     "execution_count": 352,
     "metadata": {},
     "output_type": "execute_result"
    }
   ],
   "source": [
    "u.pop(1)"
   ]
  },
  {
   "cell_type": "code",
   "execution_count": 354,
   "id": "1bd8c3f5-ac24-4a7a-9dd1-9cb4cbe10c67",
   "metadata": {},
   "outputs": [
    {
     "data": {
      "text/plain": [
       "['orange', 'pink', 'red', 'banana']"
      ]
     },
     "execution_count": 354,
     "metadata": {},
     "output_type": "execute_result"
    }
   ],
   "source": [
    "u"
   ]
  },
  {
   "cell_type": "code",
   "execution_count": 356,
   "id": "fa09c9c3-afd4-4682-84ce-c223e88aa590",
   "metadata": {},
   "outputs": [
    {
     "data": {
      "text/plain": [
       "['orange', 'pink', 'red', 'banana']"
      ]
     },
     "execution_count": 356,
     "metadata": {},
     "output_type": "execute_result"
    }
   ],
   "source": [
    "j"
   ]
  },
  {
   "cell_type": "code",
   "execution_count": 358,
   "id": "2c9f753d-baf4-49f4-a15c-212dd1856c5f",
   "metadata": {},
   "outputs": [
    {
     "data": {
      "text/plain": [
       "[10, 20, 30, 40, 10, 20, 30, 40]"
      ]
     },
     "execution_count": 358,
     "metadata": {},
     "output_type": "execute_result"
    }
   ],
   "source": [
    "price=[10,20,30,40]\n",
    "price*2"
   ]
  },
  {
   "cell_type": "code",
   "execution_count": 360,
   "id": "f90ffb10-9be1-49cf-8ec8-c37c60787e21",
   "metadata": {},
   "outputs": [
    {
     "name": "stdout",
     "output_type": "stream",
     "text": [
      "20\n",
      "40\n",
      "60\n",
      "80\n"
     ]
    }
   ],
   "source": [
    "for i in price:\n",
    "    print(i*2)"
   ]
  },
  {
   "cell_type": "code",
   "execution_count": 362,
   "id": "5ae239f0-2f81-4681-a8fd-6c02aded013a",
   "metadata": {},
   "outputs": [],
   "source": [
    "dubled_price=[]\n",
    "for i in price:\n",
    "    dubled_price.append(i*2)\n",
    "   "
   ]
  },
  {
   "cell_type": "code",
   "execution_count": 364,
   "id": "07f5f86a-0176-48f0-a488-54f34aafe3bf",
   "metadata": {},
   "outputs": [
    {
     "data": {
      "text/plain": [
       "[20, 40, 60, 80]"
      ]
     },
     "execution_count": 364,
     "metadata": {},
     "output_type": "execute_result"
    }
   ],
   "source": [
    "dubled_price"
   ]
  },
  {
   "cell_type": "code",
   "execution_count": 370,
   "id": "09f7f33f-8c76-49bc-9034-39876fdbe1b6",
   "metadata": {},
   "outputs": [
    {
     "data": {
      "text/plain": [
       "[[10, 20, 30, 40, 10, 20, 30, 40],\n",
       " [10, 20, 30, 40, 10, 20, 30, 40],\n",
       " [10, 20, 30, 40, 10, 20, 30, 40],\n",
       " [10, 20, 30, 40, 10, 20, 30, 40]]"
      ]
     },
     "execution_count": 370,
     "metadata": {},
     "output_type": "execute_result"
    }
   ],
   "source": [
    "[price * 2 for prices in price]"
   ]
  },
  {
   "cell_type": "code",
   "execution_count": 368,
   "id": "9189c144-99cb-4cf4-aa8e-4338a2ec67c3",
   "metadata": {},
   "outputs": [
    {
     "name": "stdout",
     "output_type": "stream",
     "text": [
      "hello\n"
     ]
    }
   ],
   "source": [
    "print(\"hello\")"
   ]
  },
  {
   "cell_type": "code",
   "execution_count": 376,
   "id": "7d62c746-8c97-4ae2-8966-d7d42c0a8373",
   "metadata": {},
   "outputs": [
    {
     "data": {
      "text/plain": [
       "['Ajay', 'Vijay', 'Sanjay']"
      ]
     },
     "execution_count": 376,
     "metadata": {},
     "output_type": "execute_result"
    }
   ],
   "source": [
    "name=[\"ajay\",\"vijay\",\"sanjay\"]\n",
    "[names.capitalize() for names in name]"
   ]
  },
  {
   "cell_type": "code",
   "execution_count": 380,
   "id": "78ec6e05-29d4-437d-814f-4f36a131ec3b",
   "metadata": {},
   "outputs": [],
   "source": [
    "file_name=[\"doc.pdf\",\"doc.text\"]\n"
   ]
  },
  {
   "cell_type": "code",
   "execution_count": 382,
   "id": "45cfbb1d-5668-42d6-ab59-850d740e40cf",
   "metadata": {},
   "outputs": [
    {
     "data": {
      "text/plain": [
       "['doc.pdf', 'doc.text']"
      ]
     },
     "execution_count": 382,
     "metadata": {},
     "output_type": "execute_result"
    }
   ],
   "source": [
    "file_name"
   ]
  },
  {
   "cell_type": "code",
   "execution_count": 388,
   "id": "ba3de3d7-fa69-465f-900d-b3b14a663274",
   "metadata": {},
   "outputs": [
    {
     "data": {
      "text/plain": [
       "['ss@yahoo.com']"
      ]
     },
     "execution_count": 388,
     "metadata": {},
     "output_type": "execute_result"
    }
   ],
   "source": [
    "#conditional list commperhension\n",
    "email=[\"kapil@gmail.com\",\"rhal@gmail.com\",\"ss@yahoo.com\"]\n",
    "[emails for emails in email if emails.endswith(\"yahoo.com\")]"
   ]
  },
  {
   "cell_type": "code",
   "execution_count": 402,
   "id": "910427a7-0bad-42d8-aaf7-7949a1be3df4",
   "metadata": {},
   "outputs": [],
   "source": [
    "#nested list commperihension\n",
    "pairs=[]\n",
    "for x in [1,2,3]:\n",
    "    for y in[4,5,6]:\n",
    "        pairs.append([x,y])"
   ]
  },
  {
   "cell_type": "code",
   "execution_count": 404,
   "id": "a5bcdf36-9061-405e-9eb0-46ee78e03525",
   "metadata": {},
   "outputs": [
    {
     "data": {
      "text/plain": [
       "[[1, 4], [1, 5], [1, 6], [2, 4], [2, 5], [2, 6], [3, 4], [3, 5], [3, 6]]"
      ]
     },
     "execution_count": 404,
     "metadata": {},
     "output_type": "execute_result"
    }
   ],
   "source": [
    "pairs"
   ]
  },
  {
   "cell_type": "code",
   "execution_count": 406,
   "id": "fe0a5217-cbee-4d49-afda-d7c6a09881f9",
   "metadata": {},
   "outputs": [
    {
     "data": {
      "text/plain": [
       "[[1, 4], [1, 5], [1, 6], [2, 4], [2, 5], [2, 6], [3, 4], [3, 5], [3, 6]]"
      ]
     },
     "execution_count": 406,
     "metadata": {},
     "output_type": "execute_result"
    }
   ],
   "source": [
    "[[x,y] for x in [1,2,3] for y in [4,5,6]]"
   ]
  },
  {
   "cell_type": "code",
   "execution_count": null,
   "id": "6b60644d-3fc3-4518-a98b-818dd5d582eb",
   "metadata": {},
   "outputs": [],
   "source": [
    "#list as stact and queue\n",
    "#stack=last in first out principle> last element added to the stack will be the first one remove\n"
   ]
  },
  {
   "cell_type": "code",
   "execution_count": 408,
   "id": "be802b97-0fe8-421d-bd0a-90921dc71088",
   "metadata": {},
   "outputs": [],
   "source": [
    "a=1\n"
   ]
  },
  {
   "cell_type": "code",
   "execution_count": 410,
   "id": "177a827a-8f44-498f-8313-d26b35d39471",
   "metadata": {},
   "outputs": [
    {
     "data": {
      "text/plain": [
       "1"
      ]
     },
     "execution_count": 410,
     "metadata": {},
     "output_type": "execute_result"
    }
   ],
   "source": [
    "a"
   ]
  },
  {
   "cell_type": "code",
   "execution_count": 414,
   "id": "f66f8b42-1695-430c-940d-8e1e51b7e144",
   "metadata": {},
   "outputs": [],
   "source": [
    "plate=[]\n",
    "plate.append(\"plate1\")\n",
    "plate.append(\"plate2\")\n",
    "plate.append(\"plate3\")\n",
    "plate.append(\"plate4\")\n",
    "plate.append(\"plate5\")\n",
    "plate.append(\"plate6\")\n",
    "plate.append(\"plate7\")"
   ]
  },
  {
   "cell_type": "code",
   "execution_count": 416,
   "id": "922ea3e4-5a12-45ef-9e91-02fe4d68fd70",
   "metadata": {},
   "outputs": [
    {
     "data": {
      "text/plain": [
       "['plate1', 'plate2', 'plate3', 'plate4', 'plate5', 'plate6', 'plate7']"
      ]
     },
     "execution_count": 416,
     "metadata": {},
     "output_type": "execute_result"
    }
   ],
   "source": [
    "plate"
   ]
  },
  {
   "cell_type": "code",
   "execution_count": 418,
   "id": "a035b35a-88ff-4b74-8c57-7e33e1697d94",
   "metadata": {},
   "outputs": [
    {
     "data": {
      "text/plain": [
       "'plate7'"
      ]
     },
     "execution_count": 418,
     "metadata": {},
     "output_type": "execute_result"
    }
   ],
   "source": [
    "plate.pop()"
   ]
  },
  {
   "cell_type": "code",
   "execution_count": null,
   "id": "b45cb9f8-50ac-468a-82af-6bda9819db6b",
   "metadata": {},
   "outputs": [],
   "source": []
  }
 ],
 "metadata": {
  "kernelspec": {
   "display_name": "Python 3 (ipykernel)",
   "language": "python",
   "name": "python3"
  },
  "language_info": {
   "codemirror_mode": {
    "name": "ipython",
    "version": 3
   },
   "file_extension": ".py",
   "mimetype": "text/x-python",
   "name": "python",
   "nbconvert_exporter": "python",
   "pygments_lexer": "ipython3",
   "version": "3.12.7"
  }
 },
 "nbformat": 4,
 "nbformat_minor": 5
}
