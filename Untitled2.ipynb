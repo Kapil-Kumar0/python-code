{
 "cells": [
  {
   "cell_type": "code",
   "execution_count": 1,
   "id": "6585372c-cbb3-4161-9b85-e1827cda4ad0",
   "metadata": {},
   "outputs": [
    {
     "name": "stdout",
     "output_type": "stream",
     "text": [
      "hello world\n"
     ]
    }
   ],
   "source": [
    "print(\"hello world\")"
   ]
  },
  {
   "cell_type": "markdown",
   "id": "137b6a71-7a36-444a-93d6-e002c294c6d0",
   "metadata": {},
   "source": [
    "##day 4 machine learning class"
   ]
  },
  {
   "cell_type": "code",
   "execution_count": 13,
   "id": "1c26d489-a305-4127-8133-29b7b8b35552",
   "metadata": {},
   "outputs": [],
   "source": [
    "import pandas as pd\n",
    "import requests"
   ]
  },
  {
   "cell_type": "markdown",
   "id": "6c1a529e-5f88-4eff-ad73-c3b8bdb8e1d8",
   "metadata": {},
   "source": [
    "###API key paste"
   ]
  },
  {
   "cell_type": "code",
   "execution_count": null,
   "id": "8cacaf77-1681-411b-a389-affe7556181f",
   "metadata": {},
   "outputs": [],
   "source": []
  },
  {
   "cell_type": "code",
   "execution_count": null,
   "id": "a1965407-b48b-469b-9f18-d2838e03c6b6",
   "metadata": {},
   "outputs": [],
   "source": []
  },
  {
   "cell_type": "code",
   "execution_count": null,
   "id": "821f5330-e546-410e-9d8c-ad4b679e5b82",
   "metadata": {},
   "outputs": [],
   "source": []
  },
  {
   "cell_type": "code",
   "execution_count": null,
   "id": "7739549a-17c0-4da0-8d58-b7521647cdc2",
   "metadata": {},
   "outputs": [],
   "source": []
  },
  {
   "cell_type": "code",
   "execution_count": null,
   "id": "d201e312-3daf-471d-98e6-2e207155f642",
   "metadata": {},
   "outputs": [],
   "source": []
  },
  {
   "cell_type": "code",
   "execution_count": null,
   "id": "6577c243-aa5b-43b9-b024-637a6af3257d",
   "metadata": {},
   "outputs": [],
   "source": []
  },
  {
   "cell_type": "code",
   "execution_count": null,
   "id": "459aa38e-7338-430c-be54-7a6d3c999867",
   "metadata": {},
   "outputs": [],
   "source": []
  },
  {
   "cell_type": "code",
   "execution_count": null,
   "id": "451dd4c2-0bc3-49c7-bf27-5eb3e40cbe21",
   "metadata": {},
   "outputs": [],
   "source": []
  },
  {
   "cell_type": "code",
   "execution_count": null,
   "id": "334025d8-ba56-461e-9205-441e7bb97a89",
   "metadata": {},
   "outputs": [],
   "source": []
  },
  {
   "cell_type": "code",
   "execution_count": null,
   "id": "2cb323f1-9b41-411d-8b72-bb380d1cf7f9",
   "metadata": {},
   "outputs": [],
   "source": []
  },
  {
   "cell_type": "code",
   "execution_count": null,
   "id": "8c6d5490-e751-4911-9337-b405b666436d",
   "metadata": {},
   "outputs": [],
   "source": []
  },
  {
   "cell_type": "code",
   "execution_count": null,
   "id": "20247758-b967-4e26-a120-0b5fbaa3c7a8",
   "metadata": {},
   "outputs": [],
   "source": []
  },
  {
   "cell_type": "code",
   "execution_count": null,
   "id": "b136048f-76d7-4408-8912-8ddbcf103438",
   "metadata": {},
   "outputs": [],
   "source": []
  }
 ],
 "metadata": {
  "kernelspec": {
   "display_name": "Python 3 (ipykernel)",
   "language": "python",
   "name": "python3"
  },
  "language_info": {
   "codemirror_mode": {
    "name": "ipython",
    "version": 3
   },
   "file_extension": ".py",
   "mimetype": "text/x-python",
   "name": "python",
   "nbconvert_exporter": "python",
   "pygments_lexer": "ipython3",
   "version": "3.12.7"
  }
 },
 "nbformat": 4,
 "nbformat_minor": 5
}
